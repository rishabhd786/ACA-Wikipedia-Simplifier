{
  "nbformat": 4,
  "nbformat_minor": 0,
  "metadata": {
    "colab": {
      "name": "Wikipedia_Simplifier.ipynb",
      "provenance": [],
      "collapsed_sections": [],
      "authorship_tag": "ABX9TyMXxpFSxyna2QIYJl7yNDUM",
      "include_colab_link": true
    },
    "kernelspec": {
      "name": "python3",
      "display_name": "Python 3"
    },
    "language_info": {
      "name": "python"
    },
    "accelerator": "GPU",
    "widgets": {
      "application/vnd.jupyter.widget-state+json": {
        "c4768b71c55445f092c33d0d9b197834": {
          "model_module": "@jupyter-widgets/controls",
          "model_name": "HBoxModel",
          "state": {
            "_view_name": "HBoxView",
            "_dom_classes": [],
            "_model_name": "HBoxModel",
            "_view_module": "@jupyter-widgets/controls",
            "_model_module_version": "1.5.0",
            "_view_count": null,
            "_view_module_version": "1.5.0",
            "box_style": "",
            "layout": "IPY_MODEL_77418127c4654006a6610af8722b4f98",
            "_model_module": "@jupyter-widgets/controls",
            "children": [
              "IPY_MODEL_977ad2096048427ab9d3c7c567d311f3",
              "IPY_MODEL_fcb0e031854446af94b2f29bd1d6710d",
              "IPY_MODEL_ccf5379321ec4eeeb2ccf0a014737889"
            ]
          }
        },
        "77418127c4654006a6610af8722b4f98": {
          "model_module": "@jupyter-widgets/base",
          "model_name": "LayoutModel",
          "state": {
            "_view_name": "LayoutView",
            "grid_template_rows": null,
            "right": null,
            "justify_content": null,
            "_view_module": "@jupyter-widgets/base",
            "overflow": null,
            "_model_module_version": "1.2.0",
            "_view_count": null,
            "flex_flow": null,
            "width": null,
            "min_width": null,
            "border": null,
            "align_items": null,
            "bottom": null,
            "_model_module": "@jupyter-widgets/base",
            "top": null,
            "grid_column": null,
            "overflow_y": null,
            "overflow_x": null,
            "grid_auto_flow": null,
            "grid_area": null,
            "grid_template_columns": null,
            "flex": null,
            "_model_name": "LayoutModel",
            "justify_items": null,
            "grid_row": null,
            "max_height": null,
            "align_content": null,
            "visibility": null,
            "align_self": null,
            "height": null,
            "min_height": null,
            "padding": null,
            "grid_auto_rows": null,
            "grid_gap": null,
            "max_width": null,
            "order": null,
            "_view_module_version": "1.2.0",
            "grid_template_areas": null,
            "object_position": null,
            "object_fit": null,
            "grid_auto_columns": null,
            "margin": null,
            "display": null,
            "left": null
          }
        },
        "977ad2096048427ab9d3c7c567d311f3": {
          "model_module": "@jupyter-widgets/controls",
          "model_name": "HTMLModel",
          "state": {
            "_view_name": "HTMLView",
            "style": "IPY_MODEL_85d2c4b4c4a14bcaabf06c2899acc41e",
            "_dom_classes": [],
            "description": "",
            "_model_name": "HTMLModel",
            "placeholder": "​",
            "_view_module": "@jupyter-widgets/controls",
            "_model_module_version": "1.5.0",
            "value": "Downloading: 100%",
            "_view_count": null,
            "_view_module_version": "1.5.0",
            "description_tooltip": null,
            "_model_module": "@jupyter-widgets/controls",
            "layout": "IPY_MODEL_9cf7a6867acb4d3a93611932b9704d4e"
          }
        },
        "fcb0e031854446af94b2f29bd1d6710d": {
          "model_module": "@jupyter-widgets/controls",
          "model_name": "FloatProgressModel",
          "state": {
            "_view_name": "ProgressView",
            "style": "IPY_MODEL_5af848fb9265434c93693ae6dd7e5ac1",
            "_dom_classes": [],
            "description": "",
            "_model_name": "FloatProgressModel",
            "bar_style": "success",
            "max": 1802,
            "_view_module": "@jupyter-widgets/controls",
            "_model_module_version": "1.5.0",
            "value": 1802,
            "_view_count": null,
            "_view_module_version": "1.5.0",
            "orientation": "horizontal",
            "min": 0,
            "description_tooltip": null,
            "_model_module": "@jupyter-widgets/controls",
            "layout": "IPY_MODEL_3a59e8f2a68a406fba8a15a8a54e62a3"
          }
        },
        "ccf5379321ec4eeeb2ccf0a014737889": {
          "model_module": "@jupyter-widgets/controls",
          "model_name": "HTMLModel",
          "state": {
            "_view_name": "HTMLView",
            "style": "IPY_MODEL_70d73496167a433ca9e142e28fbb7596",
            "_dom_classes": [],
            "description": "",
            "_model_name": "HTMLModel",
            "placeholder": "​",
            "_view_module": "@jupyter-widgets/controls",
            "_model_module_version": "1.5.0",
            "value": " 1.80k/1.80k [00:00&lt;00:00, 45.5kB/s]",
            "_view_count": null,
            "_view_module_version": "1.5.0",
            "description_tooltip": null,
            "_model_module": "@jupyter-widgets/controls",
            "layout": "IPY_MODEL_0ef209dc3b3d454fae7325d0ddff7240"
          }
        },
        "85d2c4b4c4a14bcaabf06c2899acc41e": {
          "model_module": "@jupyter-widgets/controls",
          "model_name": "DescriptionStyleModel",
          "state": {
            "_view_name": "StyleView",
            "_model_name": "DescriptionStyleModel",
            "description_width": "",
            "_view_module": "@jupyter-widgets/base",
            "_model_module_version": "1.5.0",
            "_view_count": null,
            "_view_module_version": "1.2.0",
            "_model_module": "@jupyter-widgets/controls"
          }
        },
        "9cf7a6867acb4d3a93611932b9704d4e": {
          "model_module": "@jupyter-widgets/base",
          "model_name": "LayoutModel",
          "state": {
            "_view_name": "LayoutView",
            "grid_template_rows": null,
            "right": null,
            "justify_content": null,
            "_view_module": "@jupyter-widgets/base",
            "overflow": null,
            "_model_module_version": "1.2.0",
            "_view_count": null,
            "flex_flow": null,
            "width": null,
            "min_width": null,
            "border": null,
            "align_items": null,
            "bottom": null,
            "_model_module": "@jupyter-widgets/base",
            "top": null,
            "grid_column": null,
            "overflow_y": null,
            "overflow_x": null,
            "grid_auto_flow": null,
            "grid_area": null,
            "grid_template_columns": null,
            "flex": null,
            "_model_name": "LayoutModel",
            "justify_items": null,
            "grid_row": null,
            "max_height": null,
            "align_content": null,
            "visibility": null,
            "align_self": null,
            "height": null,
            "min_height": null,
            "padding": null,
            "grid_auto_rows": null,
            "grid_gap": null,
            "max_width": null,
            "order": null,
            "_view_module_version": "1.2.0",
            "grid_template_areas": null,
            "object_position": null,
            "object_fit": null,
            "grid_auto_columns": null,
            "margin": null,
            "display": null,
            "left": null
          }
        },
        "5af848fb9265434c93693ae6dd7e5ac1": {
          "model_module": "@jupyter-widgets/controls",
          "model_name": "ProgressStyleModel",
          "state": {
            "_view_name": "StyleView",
            "_model_name": "ProgressStyleModel",
            "description_width": "",
            "_view_module": "@jupyter-widgets/base",
            "_model_module_version": "1.5.0",
            "_view_count": null,
            "_view_module_version": "1.2.0",
            "bar_color": null,
            "_model_module": "@jupyter-widgets/controls"
          }
        },
        "3a59e8f2a68a406fba8a15a8a54e62a3": {
          "model_module": "@jupyter-widgets/base",
          "model_name": "LayoutModel",
          "state": {
            "_view_name": "LayoutView",
            "grid_template_rows": null,
            "right": null,
            "justify_content": null,
            "_view_module": "@jupyter-widgets/base",
            "overflow": null,
            "_model_module_version": "1.2.0",
            "_view_count": null,
            "flex_flow": null,
            "width": null,
            "min_width": null,
            "border": null,
            "align_items": null,
            "bottom": null,
            "_model_module": "@jupyter-widgets/base",
            "top": null,
            "grid_column": null,
            "overflow_y": null,
            "overflow_x": null,
            "grid_auto_flow": null,
            "grid_area": null,
            "grid_template_columns": null,
            "flex": null,
            "_model_name": "LayoutModel",
            "justify_items": null,
            "grid_row": null,
            "max_height": null,
            "align_content": null,
            "visibility": null,
            "align_self": null,
            "height": null,
            "min_height": null,
            "padding": null,
            "grid_auto_rows": null,
            "grid_gap": null,
            "max_width": null,
            "order": null,
            "_view_module_version": "1.2.0",
            "grid_template_areas": null,
            "object_position": null,
            "object_fit": null,
            "grid_auto_columns": null,
            "margin": null,
            "display": null,
            "left": null
          }
        },
        "70d73496167a433ca9e142e28fbb7596": {
          "model_module": "@jupyter-widgets/controls",
          "model_name": "DescriptionStyleModel",
          "state": {
            "_view_name": "StyleView",
            "_model_name": "DescriptionStyleModel",
            "description_width": "",
            "_view_module": "@jupyter-widgets/base",
            "_model_module_version": "1.5.0",
            "_view_count": null,
            "_view_module_version": "1.2.0",
            "_model_module": "@jupyter-widgets/controls"
          }
        },
        "0ef209dc3b3d454fae7325d0ddff7240": {
          "model_module": "@jupyter-widgets/base",
          "model_name": "LayoutModel",
          "state": {
            "_view_name": "LayoutView",
            "grid_template_rows": null,
            "right": null,
            "justify_content": null,
            "_view_module": "@jupyter-widgets/base",
            "overflow": null,
            "_model_module_version": "1.2.0",
            "_view_count": null,
            "flex_flow": null,
            "width": null,
            "min_width": null,
            "border": null,
            "align_items": null,
            "bottom": null,
            "_model_module": "@jupyter-widgets/base",
            "top": null,
            "grid_column": null,
            "overflow_y": null,
            "overflow_x": null,
            "grid_auto_flow": null,
            "grid_area": null,
            "grid_template_columns": null,
            "flex": null,
            "_model_name": "LayoutModel",
            "justify_items": null,
            "grid_row": null,
            "max_height": null,
            "align_content": null,
            "visibility": null,
            "align_self": null,
            "height": null,
            "min_height": null,
            "padding": null,
            "grid_auto_rows": null,
            "grid_gap": null,
            "max_width": null,
            "order": null,
            "_view_module_version": "1.2.0",
            "grid_template_areas": null,
            "object_position": null,
            "object_fit": null,
            "grid_auto_columns": null,
            "margin": null,
            "display": null,
            "left": null
          }
        },
        "f29ee09134c24e63bb9c6a1ea65f3e6e": {
          "model_module": "@jupyter-widgets/controls",
          "model_name": "HBoxModel",
          "state": {
            "_view_name": "HBoxView",
            "_dom_classes": [],
            "_model_name": "HBoxModel",
            "_view_module": "@jupyter-widgets/controls",
            "_model_module_version": "1.5.0",
            "_view_count": null,
            "_view_module_version": "1.5.0",
            "box_style": "",
            "layout": "IPY_MODEL_acf2fbcdc6dd4b1ba5de8908eac46199",
            "_model_module": "@jupyter-widgets/controls",
            "children": [
              "IPY_MODEL_1c3db3e73d924a6990cd10ebfc2665d2",
              "IPY_MODEL_a4a56f6446074adfa1b11bbcb34e3d22",
              "IPY_MODEL_f7dc8ad7682f43e4a8cc5f3c3442cb01"
            ]
          }
        },
        "acf2fbcdc6dd4b1ba5de8908eac46199": {
          "model_module": "@jupyter-widgets/base",
          "model_name": "LayoutModel",
          "state": {
            "_view_name": "LayoutView",
            "grid_template_rows": null,
            "right": null,
            "justify_content": null,
            "_view_module": "@jupyter-widgets/base",
            "overflow": null,
            "_model_module_version": "1.2.0",
            "_view_count": null,
            "flex_flow": null,
            "width": null,
            "min_width": null,
            "border": null,
            "align_items": null,
            "bottom": null,
            "_model_module": "@jupyter-widgets/base",
            "top": null,
            "grid_column": null,
            "overflow_y": null,
            "overflow_x": null,
            "grid_auto_flow": null,
            "grid_area": null,
            "grid_template_columns": null,
            "flex": null,
            "_model_name": "LayoutModel",
            "justify_items": null,
            "grid_row": null,
            "max_height": null,
            "align_content": null,
            "visibility": null,
            "align_self": null,
            "height": null,
            "min_height": null,
            "padding": null,
            "grid_auto_rows": null,
            "grid_gap": null,
            "max_width": null,
            "order": null,
            "_view_module_version": "1.2.0",
            "grid_template_areas": null,
            "object_position": null,
            "object_fit": null,
            "grid_auto_columns": null,
            "margin": null,
            "display": null,
            "left": null
          }
        },
        "1c3db3e73d924a6990cd10ebfc2665d2": {
          "model_module": "@jupyter-widgets/controls",
          "model_name": "HTMLModel",
          "state": {
            "_view_name": "HTMLView",
            "style": "IPY_MODEL_4e8374fa45104f0eb48209c3e573cec5",
            "_dom_classes": [],
            "description": "",
            "_model_name": "HTMLModel",
            "placeholder": "​",
            "_view_module": "@jupyter-widgets/controls",
            "_model_module_version": "1.5.0",
            "value": "Downloading: 100%",
            "_view_count": null,
            "_view_module_version": "1.5.0",
            "description_tooltip": null,
            "_model_module": "@jupyter-widgets/controls",
            "layout": "IPY_MODEL_64c4c18fcf9d41c4a0854d95bff4ebef"
          }
        },
        "a4a56f6446074adfa1b11bbcb34e3d22": {
          "model_module": "@jupyter-widgets/controls",
          "model_name": "FloatProgressModel",
          "state": {
            "_view_name": "ProgressView",
            "style": "IPY_MODEL_ea74a17e91234cb1a803d9de41384ca4",
            "_dom_classes": [],
            "description": "",
            "_model_name": "FloatProgressModel",
            "bar_style": "success",
            "max": 1222317369,
            "_view_module": "@jupyter-widgets/controls",
            "_model_module_version": "1.5.0",
            "value": 1222317369,
            "_view_count": null,
            "_view_module_version": "1.5.0",
            "orientation": "horizontal",
            "min": 0,
            "description_tooltip": null,
            "_model_module": "@jupyter-widgets/controls",
            "layout": "IPY_MODEL_0c8133e3342b4f649cfba7d8e3795232"
          }
        },
        "f7dc8ad7682f43e4a8cc5f3c3442cb01": {
          "model_module": "@jupyter-widgets/controls",
          "model_name": "HTMLModel",
          "state": {
            "_view_name": "HTMLView",
            "style": "IPY_MODEL_cf9d482e115c48cf861c22c88201b238",
            "_dom_classes": [],
            "description": "",
            "_model_name": "HTMLModel",
            "placeholder": "​",
            "_view_module": "@jupyter-widgets/controls",
            "_model_module_version": "1.5.0",
            "value": " 1.22G/1.22G [00:23&lt;00:00, 52.4MB/s]",
            "_view_count": null,
            "_view_module_version": "1.5.0",
            "description_tooltip": null,
            "_model_module": "@jupyter-widgets/controls",
            "layout": "IPY_MODEL_11155ce2cd7141e394fd874e213efec7"
          }
        },
        "4e8374fa45104f0eb48209c3e573cec5": {
          "model_module": "@jupyter-widgets/controls",
          "model_name": "DescriptionStyleModel",
          "state": {
            "_view_name": "StyleView",
            "_model_name": "DescriptionStyleModel",
            "description_width": "",
            "_view_module": "@jupyter-widgets/base",
            "_model_module_version": "1.5.0",
            "_view_count": null,
            "_view_module_version": "1.2.0",
            "_model_module": "@jupyter-widgets/controls"
          }
        },
        "64c4c18fcf9d41c4a0854d95bff4ebef": {
          "model_module": "@jupyter-widgets/base",
          "model_name": "LayoutModel",
          "state": {
            "_view_name": "LayoutView",
            "grid_template_rows": null,
            "right": null,
            "justify_content": null,
            "_view_module": "@jupyter-widgets/base",
            "overflow": null,
            "_model_module_version": "1.2.0",
            "_view_count": null,
            "flex_flow": null,
            "width": null,
            "min_width": null,
            "border": null,
            "align_items": null,
            "bottom": null,
            "_model_module": "@jupyter-widgets/base",
            "top": null,
            "grid_column": null,
            "overflow_y": null,
            "overflow_x": null,
            "grid_auto_flow": null,
            "grid_area": null,
            "grid_template_columns": null,
            "flex": null,
            "_model_name": "LayoutModel",
            "justify_items": null,
            "grid_row": null,
            "max_height": null,
            "align_content": null,
            "visibility": null,
            "align_self": null,
            "height": null,
            "min_height": null,
            "padding": null,
            "grid_auto_rows": null,
            "grid_gap": null,
            "max_width": null,
            "order": null,
            "_view_module_version": "1.2.0",
            "grid_template_areas": null,
            "object_position": null,
            "object_fit": null,
            "grid_auto_columns": null,
            "margin": null,
            "display": null,
            "left": null
          }
        },
        "ea74a17e91234cb1a803d9de41384ca4": {
          "model_module": "@jupyter-widgets/controls",
          "model_name": "ProgressStyleModel",
          "state": {
            "_view_name": "StyleView",
            "_model_name": "ProgressStyleModel",
            "description_width": "",
            "_view_module": "@jupyter-widgets/base",
            "_model_module_version": "1.5.0",
            "_view_count": null,
            "_view_module_version": "1.2.0",
            "bar_color": null,
            "_model_module": "@jupyter-widgets/controls"
          }
        },
        "0c8133e3342b4f649cfba7d8e3795232": {
          "model_module": "@jupyter-widgets/base",
          "model_name": "LayoutModel",
          "state": {
            "_view_name": "LayoutView",
            "grid_template_rows": null,
            "right": null,
            "justify_content": null,
            "_view_module": "@jupyter-widgets/base",
            "overflow": null,
            "_model_module_version": "1.2.0",
            "_view_count": null,
            "flex_flow": null,
            "width": null,
            "min_width": null,
            "border": null,
            "align_items": null,
            "bottom": null,
            "_model_module": "@jupyter-widgets/base",
            "top": null,
            "grid_column": null,
            "overflow_y": null,
            "overflow_x": null,
            "grid_auto_flow": null,
            "grid_area": null,
            "grid_template_columns": null,
            "flex": null,
            "_model_name": "LayoutModel",
            "justify_items": null,
            "grid_row": null,
            "max_height": null,
            "align_content": null,
            "visibility": null,
            "align_self": null,
            "height": null,
            "min_height": null,
            "padding": null,
            "grid_auto_rows": null,
            "grid_gap": null,
            "max_width": null,
            "order": null,
            "_view_module_version": "1.2.0",
            "grid_template_areas": null,
            "object_position": null,
            "object_fit": null,
            "grid_auto_columns": null,
            "margin": null,
            "display": null,
            "left": null
          }
        },
        "cf9d482e115c48cf861c22c88201b238": {
          "model_module": "@jupyter-widgets/controls",
          "model_name": "DescriptionStyleModel",
          "state": {
            "_view_name": "StyleView",
            "_model_name": "DescriptionStyleModel",
            "description_width": "",
            "_view_module": "@jupyter-widgets/base",
            "_model_module_version": "1.5.0",
            "_view_count": null,
            "_view_module_version": "1.2.0",
            "_model_module": "@jupyter-widgets/controls"
          }
        },
        "11155ce2cd7141e394fd874e213efec7": {
          "model_module": "@jupyter-widgets/base",
          "model_name": "LayoutModel",
          "state": {
            "_view_name": "LayoutView",
            "grid_template_rows": null,
            "right": null,
            "justify_content": null,
            "_view_module": "@jupyter-widgets/base",
            "overflow": null,
            "_model_module_version": "1.2.0",
            "_view_count": null,
            "flex_flow": null,
            "width": null,
            "min_width": null,
            "border": null,
            "align_items": null,
            "bottom": null,
            "_model_module": "@jupyter-widgets/base",
            "top": null,
            "grid_column": null,
            "overflow_y": null,
            "overflow_x": null,
            "grid_auto_flow": null,
            "grid_area": null,
            "grid_template_columns": null,
            "flex": null,
            "_model_name": "LayoutModel",
            "justify_items": null,
            "grid_row": null,
            "max_height": null,
            "align_content": null,
            "visibility": null,
            "align_self": null,
            "height": null,
            "min_height": null,
            "padding": null,
            "grid_auto_rows": null,
            "grid_gap": null,
            "max_width": null,
            "order": null,
            "_view_module_version": "1.2.0",
            "grid_template_areas": null,
            "object_position": null,
            "object_fit": null,
            "grid_auto_columns": null,
            "margin": null,
            "display": null,
            "left": null
          }
        },
        "7e961ac3509f4628bdfdbc7fc95d74de": {
          "model_module": "@jupyter-widgets/controls",
          "model_name": "HBoxModel",
          "state": {
            "_view_name": "HBoxView",
            "_dom_classes": [],
            "_model_name": "HBoxModel",
            "_view_module": "@jupyter-widgets/controls",
            "_model_module_version": "1.5.0",
            "_view_count": null,
            "_view_module_version": "1.5.0",
            "box_style": "",
            "layout": "IPY_MODEL_61a80c0b95264b8aa78518d988419ae4",
            "_model_module": "@jupyter-widgets/controls",
            "children": [
              "IPY_MODEL_fff9f1c3802b477195c738a86e4afd48",
              "IPY_MODEL_c2cab65440a742cf8aa268fcb839fd95",
              "IPY_MODEL_7ea8106314e94965ab142c5fe945dfad"
            ]
          }
        },
        "61a80c0b95264b8aa78518d988419ae4": {
          "model_module": "@jupyter-widgets/base",
          "model_name": "LayoutModel",
          "state": {
            "_view_name": "LayoutView",
            "grid_template_rows": null,
            "right": null,
            "justify_content": null,
            "_view_module": "@jupyter-widgets/base",
            "overflow": null,
            "_model_module_version": "1.2.0",
            "_view_count": null,
            "flex_flow": null,
            "width": null,
            "min_width": null,
            "border": null,
            "align_items": null,
            "bottom": null,
            "_model_module": "@jupyter-widgets/base",
            "top": null,
            "grid_column": null,
            "overflow_y": null,
            "overflow_x": null,
            "grid_auto_flow": null,
            "grid_area": null,
            "grid_template_columns": null,
            "flex": null,
            "_model_name": "LayoutModel",
            "justify_items": null,
            "grid_row": null,
            "max_height": null,
            "align_content": null,
            "visibility": null,
            "align_self": null,
            "height": null,
            "min_height": null,
            "padding": null,
            "grid_auto_rows": null,
            "grid_gap": null,
            "max_width": null,
            "order": null,
            "_view_module_version": "1.2.0",
            "grid_template_areas": null,
            "object_position": null,
            "object_fit": null,
            "grid_auto_columns": null,
            "margin": null,
            "display": null,
            "left": null
          }
        },
        "fff9f1c3802b477195c738a86e4afd48": {
          "model_module": "@jupyter-widgets/controls",
          "model_name": "HTMLModel",
          "state": {
            "_view_name": "HTMLView",
            "style": "IPY_MODEL_eb31c9e0621d4f029ff12b3b085b4adb",
            "_dom_classes": [],
            "description": "",
            "_model_name": "HTMLModel",
            "placeholder": "​",
            "_view_module": "@jupyter-widgets/controls",
            "_model_module_version": "1.5.0",
            "value": "Downloading: 100%",
            "_view_count": null,
            "_view_module_version": "1.5.0",
            "description_tooltip": null,
            "_model_module": "@jupyter-widgets/controls",
            "layout": "IPY_MODEL_24ea13fff6084c41a97b191e38c4a936"
          }
        },
        "c2cab65440a742cf8aa268fcb839fd95": {
          "model_module": "@jupyter-widgets/controls",
          "model_name": "FloatProgressModel",
          "state": {
            "_view_name": "ProgressView",
            "style": "IPY_MODEL_95e097a72dd9430fa4990d8125f3aaf7",
            "_dom_classes": [],
            "description": "",
            "_model_name": "FloatProgressModel",
            "bar_style": "success",
            "max": 26,
            "_view_module": "@jupyter-widgets/controls",
            "_model_module_version": "1.5.0",
            "value": 26,
            "_view_count": null,
            "_view_module_version": "1.5.0",
            "orientation": "horizontal",
            "min": 0,
            "description_tooltip": null,
            "_model_module": "@jupyter-widgets/controls",
            "layout": "IPY_MODEL_c1beffc7e319462194f55af137816064"
          }
        },
        "7ea8106314e94965ab142c5fe945dfad": {
          "model_module": "@jupyter-widgets/controls",
          "model_name": "HTMLModel",
          "state": {
            "_view_name": "HTMLView",
            "style": "IPY_MODEL_783c049c65db4d958dd770c828869968",
            "_dom_classes": [],
            "description": "",
            "_model_name": "HTMLModel",
            "placeholder": "​",
            "_view_module": "@jupyter-widgets/controls",
            "_model_module_version": "1.5.0",
            "value": " 26.0/26.0 [00:00&lt;00:00, 575B/s]",
            "_view_count": null,
            "_view_module_version": "1.5.0",
            "description_tooltip": null,
            "_model_module": "@jupyter-widgets/controls",
            "layout": "IPY_MODEL_ee16cce8e6444c138326ce2cbc7f4431"
          }
        },
        "eb31c9e0621d4f029ff12b3b085b4adb": {
          "model_module": "@jupyter-widgets/controls",
          "model_name": "DescriptionStyleModel",
          "state": {
            "_view_name": "StyleView",
            "_model_name": "DescriptionStyleModel",
            "description_width": "",
            "_view_module": "@jupyter-widgets/base",
            "_model_module_version": "1.5.0",
            "_view_count": null,
            "_view_module_version": "1.2.0",
            "_model_module": "@jupyter-widgets/controls"
          }
        },
        "24ea13fff6084c41a97b191e38c4a936": {
          "model_module": "@jupyter-widgets/base",
          "model_name": "LayoutModel",
          "state": {
            "_view_name": "LayoutView",
            "grid_template_rows": null,
            "right": null,
            "justify_content": null,
            "_view_module": "@jupyter-widgets/base",
            "overflow": null,
            "_model_module_version": "1.2.0",
            "_view_count": null,
            "flex_flow": null,
            "width": null,
            "min_width": null,
            "border": null,
            "align_items": null,
            "bottom": null,
            "_model_module": "@jupyter-widgets/base",
            "top": null,
            "grid_column": null,
            "overflow_y": null,
            "overflow_x": null,
            "grid_auto_flow": null,
            "grid_area": null,
            "grid_template_columns": null,
            "flex": null,
            "_model_name": "LayoutModel",
            "justify_items": null,
            "grid_row": null,
            "max_height": null,
            "align_content": null,
            "visibility": null,
            "align_self": null,
            "height": null,
            "min_height": null,
            "padding": null,
            "grid_auto_rows": null,
            "grid_gap": null,
            "max_width": null,
            "order": null,
            "_view_module_version": "1.2.0",
            "grid_template_areas": null,
            "object_position": null,
            "object_fit": null,
            "grid_auto_columns": null,
            "margin": null,
            "display": null,
            "left": null
          }
        },
        "95e097a72dd9430fa4990d8125f3aaf7": {
          "model_module": "@jupyter-widgets/controls",
          "model_name": "ProgressStyleModel",
          "state": {
            "_view_name": "StyleView",
            "_model_name": "ProgressStyleModel",
            "description_width": "",
            "_view_module": "@jupyter-widgets/base",
            "_model_module_version": "1.5.0",
            "_view_count": null,
            "_view_module_version": "1.2.0",
            "bar_color": null,
            "_model_module": "@jupyter-widgets/controls"
          }
        },
        "c1beffc7e319462194f55af137816064": {
          "model_module": "@jupyter-widgets/base",
          "model_name": "LayoutModel",
          "state": {
            "_view_name": "LayoutView",
            "grid_template_rows": null,
            "right": null,
            "justify_content": null,
            "_view_module": "@jupyter-widgets/base",
            "overflow": null,
            "_model_module_version": "1.2.0",
            "_view_count": null,
            "flex_flow": null,
            "width": null,
            "min_width": null,
            "border": null,
            "align_items": null,
            "bottom": null,
            "_model_module": "@jupyter-widgets/base",
            "top": null,
            "grid_column": null,
            "overflow_y": null,
            "overflow_x": null,
            "grid_auto_flow": null,
            "grid_area": null,
            "grid_template_columns": null,
            "flex": null,
            "_model_name": "LayoutModel",
            "justify_items": null,
            "grid_row": null,
            "max_height": null,
            "align_content": null,
            "visibility": null,
            "align_self": null,
            "height": null,
            "min_height": null,
            "padding": null,
            "grid_auto_rows": null,
            "grid_gap": null,
            "max_width": null,
            "order": null,
            "_view_module_version": "1.2.0",
            "grid_template_areas": null,
            "object_position": null,
            "object_fit": null,
            "grid_auto_columns": null,
            "margin": null,
            "display": null,
            "left": null
          }
        },
        "783c049c65db4d958dd770c828869968": {
          "model_module": "@jupyter-widgets/controls",
          "model_name": "DescriptionStyleModel",
          "state": {
            "_view_name": "StyleView",
            "_model_name": "DescriptionStyleModel",
            "description_width": "",
            "_view_module": "@jupyter-widgets/base",
            "_model_module_version": "1.5.0",
            "_view_count": null,
            "_view_module_version": "1.2.0",
            "_model_module": "@jupyter-widgets/controls"
          }
        },
        "ee16cce8e6444c138326ce2cbc7f4431": {
          "model_module": "@jupyter-widgets/base",
          "model_name": "LayoutModel",
          "state": {
            "_view_name": "LayoutView",
            "grid_template_rows": null,
            "right": null,
            "justify_content": null,
            "_view_module": "@jupyter-widgets/base",
            "overflow": null,
            "_model_module_version": "1.2.0",
            "_view_count": null,
            "flex_flow": null,
            "width": null,
            "min_width": null,
            "border": null,
            "align_items": null,
            "bottom": null,
            "_model_module": "@jupyter-widgets/base",
            "top": null,
            "grid_column": null,
            "overflow_y": null,
            "overflow_x": null,
            "grid_auto_flow": null,
            "grid_area": null,
            "grid_template_columns": null,
            "flex": null,
            "_model_name": "LayoutModel",
            "justify_items": null,
            "grid_row": null,
            "max_height": null,
            "align_content": null,
            "visibility": null,
            "align_self": null,
            "height": null,
            "min_height": null,
            "padding": null,
            "grid_auto_rows": null,
            "grid_gap": null,
            "max_width": null,
            "order": null,
            "_view_module_version": "1.2.0",
            "grid_template_areas": null,
            "object_position": null,
            "object_fit": null,
            "grid_auto_columns": null,
            "margin": null,
            "display": null,
            "left": null
          }
        },
        "a02e3162567847668f976f1e865506fd": {
          "model_module": "@jupyter-widgets/controls",
          "model_name": "HBoxModel",
          "state": {
            "_view_name": "HBoxView",
            "_dom_classes": [],
            "_model_name": "HBoxModel",
            "_view_module": "@jupyter-widgets/controls",
            "_model_module_version": "1.5.0",
            "_view_count": null,
            "_view_module_version": "1.5.0",
            "box_style": "",
            "layout": "IPY_MODEL_65c2bacb18b24862955d1292704caa83",
            "_model_module": "@jupyter-widgets/controls",
            "children": [
              "IPY_MODEL_31a297d11a4743c5a07848d55194213e",
              "IPY_MODEL_c395b5aaed7348119db6d55d03118dd2",
              "IPY_MODEL_6b88509078be4a7fbd565dd772144ea1"
            ]
          }
        },
        "65c2bacb18b24862955d1292704caa83": {
          "model_module": "@jupyter-widgets/base",
          "model_name": "LayoutModel",
          "state": {
            "_view_name": "LayoutView",
            "grid_template_rows": null,
            "right": null,
            "justify_content": null,
            "_view_module": "@jupyter-widgets/base",
            "overflow": null,
            "_model_module_version": "1.2.0",
            "_view_count": null,
            "flex_flow": null,
            "width": null,
            "min_width": null,
            "border": null,
            "align_items": null,
            "bottom": null,
            "_model_module": "@jupyter-widgets/base",
            "top": null,
            "grid_column": null,
            "overflow_y": null,
            "overflow_x": null,
            "grid_auto_flow": null,
            "grid_area": null,
            "grid_template_columns": null,
            "flex": null,
            "_model_name": "LayoutModel",
            "justify_items": null,
            "grid_row": null,
            "max_height": null,
            "align_content": null,
            "visibility": null,
            "align_self": null,
            "height": null,
            "min_height": null,
            "padding": null,
            "grid_auto_rows": null,
            "grid_gap": null,
            "max_width": null,
            "order": null,
            "_view_module_version": "1.2.0",
            "grid_template_areas": null,
            "object_position": null,
            "object_fit": null,
            "grid_auto_columns": null,
            "margin": null,
            "display": null,
            "left": null
          }
        },
        "31a297d11a4743c5a07848d55194213e": {
          "model_module": "@jupyter-widgets/controls",
          "model_name": "HTMLModel",
          "state": {
            "_view_name": "HTMLView",
            "style": "IPY_MODEL_53054592ddfe40d3b18546ce3ef29eb1",
            "_dom_classes": [],
            "description": "",
            "_model_name": "HTMLModel",
            "placeholder": "​",
            "_view_module": "@jupyter-widgets/controls",
            "_model_module_version": "1.5.0",
            "value": "Downloading: 100%",
            "_view_count": null,
            "_view_module_version": "1.5.0",
            "description_tooltip": null,
            "_model_module": "@jupyter-widgets/controls",
            "layout": "IPY_MODEL_b5cad8be41d34a33b6455763477c5afc"
          }
        },
        "c395b5aaed7348119db6d55d03118dd2": {
          "model_module": "@jupyter-widgets/controls",
          "model_name": "FloatProgressModel",
          "state": {
            "_view_name": "ProgressView",
            "style": "IPY_MODEL_f26727ff8e564530947c62a8d54aa2db",
            "_dom_classes": [],
            "description": "",
            "_model_name": "FloatProgressModel",
            "bar_style": "success",
            "max": 898822,
            "_view_module": "@jupyter-widgets/controls",
            "_model_module_version": "1.5.0",
            "value": 898822,
            "_view_count": null,
            "_view_module_version": "1.5.0",
            "orientation": "horizontal",
            "min": 0,
            "description_tooltip": null,
            "_model_module": "@jupyter-widgets/controls",
            "layout": "IPY_MODEL_4d0999f7d88b4405b97e3a5bba72fe80"
          }
        },
        "6b88509078be4a7fbd565dd772144ea1": {
          "model_module": "@jupyter-widgets/controls",
          "model_name": "HTMLModel",
          "state": {
            "_view_name": "HTMLView",
            "style": "IPY_MODEL_d1556920ef6f474a975a6672ba311b49",
            "_dom_classes": [],
            "description": "",
            "_model_name": "HTMLModel",
            "placeholder": "​",
            "_view_module": "@jupyter-widgets/controls",
            "_model_module_version": "1.5.0",
            "value": " 899k/899k [00:00&lt;00:00, 3.04kB/s]",
            "_view_count": null,
            "_view_module_version": "1.5.0",
            "description_tooltip": null,
            "_model_module": "@jupyter-widgets/controls",
            "layout": "IPY_MODEL_dbbed27ac93a4e79a06bad53e775484e"
          }
        },
        "53054592ddfe40d3b18546ce3ef29eb1": {
          "model_module": "@jupyter-widgets/controls",
          "model_name": "DescriptionStyleModel",
          "state": {
            "_view_name": "StyleView",
            "_model_name": "DescriptionStyleModel",
            "description_width": "",
            "_view_module": "@jupyter-widgets/base",
            "_model_module_version": "1.5.0",
            "_view_count": null,
            "_view_module_version": "1.2.0",
            "_model_module": "@jupyter-widgets/controls"
          }
        },
        "b5cad8be41d34a33b6455763477c5afc": {
          "model_module": "@jupyter-widgets/base",
          "model_name": "LayoutModel",
          "state": {
            "_view_name": "LayoutView",
            "grid_template_rows": null,
            "right": null,
            "justify_content": null,
            "_view_module": "@jupyter-widgets/base",
            "overflow": null,
            "_model_module_version": "1.2.0",
            "_view_count": null,
            "flex_flow": null,
            "width": null,
            "min_width": null,
            "border": null,
            "align_items": null,
            "bottom": null,
            "_model_module": "@jupyter-widgets/base",
            "top": null,
            "grid_column": null,
            "overflow_y": null,
            "overflow_x": null,
            "grid_auto_flow": null,
            "grid_area": null,
            "grid_template_columns": null,
            "flex": null,
            "_model_name": "LayoutModel",
            "justify_items": null,
            "grid_row": null,
            "max_height": null,
            "align_content": null,
            "visibility": null,
            "align_self": null,
            "height": null,
            "min_height": null,
            "padding": null,
            "grid_auto_rows": null,
            "grid_gap": null,
            "max_width": null,
            "order": null,
            "_view_module_version": "1.2.0",
            "grid_template_areas": null,
            "object_position": null,
            "object_fit": null,
            "grid_auto_columns": null,
            "margin": null,
            "display": null,
            "left": null
          }
        },
        "f26727ff8e564530947c62a8d54aa2db": {
          "model_module": "@jupyter-widgets/controls",
          "model_name": "ProgressStyleModel",
          "state": {
            "_view_name": "StyleView",
            "_model_name": "ProgressStyleModel",
            "description_width": "",
            "_view_module": "@jupyter-widgets/base",
            "_model_module_version": "1.5.0",
            "_view_count": null,
            "_view_module_version": "1.2.0",
            "bar_color": null,
            "_model_module": "@jupyter-widgets/controls"
          }
        },
        "4d0999f7d88b4405b97e3a5bba72fe80": {
          "model_module": "@jupyter-widgets/base",
          "model_name": "LayoutModel",
          "state": {
            "_view_name": "LayoutView",
            "grid_template_rows": null,
            "right": null,
            "justify_content": null,
            "_view_module": "@jupyter-widgets/base",
            "overflow": null,
            "_model_module_version": "1.2.0",
            "_view_count": null,
            "flex_flow": null,
            "width": null,
            "min_width": null,
            "border": null,
            "align_items": null,
            "bottom": null,
            "_model_module": "@jupyter-widgets/base",
            "top": null,
            "grid_column": null,
            "overflow_y": null,
            "overflow_x": null,
            "grid_auto_flow": null,
            "grid_area": null,
            "grid_template_columns": null,
            "flex": null,
            "_model_name": "LayoutModel",
            "justify_items": null,
            "grid_row": null,
            "max_height": null,
            "align_content": null,
            "visibility": null,
            "align_self": null,
            "height": null,
            "min_height": null,
            "padding": null,
            "grid_auto_rows": null,
            "grid_gap": null,
            "max_width": null,
            "order": null,
            "_view_module_version": "1.2.0",
            "grid_template_areas": null,
            "object_position": null,
            "object_fit": null,
            "grid_auto_columns": null,
            "margin": null,
            "display": null,
            "left": null
          }
        },
        "d1556920ef6f474a975a6672ba311b49": {
          "model_module": "@jupyter-widgets/controls",
          "model_name": "DescriptionStyleModel",
          "state": {
            "_view_name": "StyleView",
            "_model_name": "DescriptionStyleModel",
            "description_width": "",
            "_view_module": "@jupyter-widgets/base",
            "_model_module_version": "1.5.0",
            "_view_count": null,
            "_view_module_version": "1.2.0",
            "_model_module": "@jupyter-widgets/controls"
          }
        },
        "dbbed27ac93a4e79a06bad53e775484e": {
          "model_module": "@jupyter-widgets/base",
          "model_name": "LayoutModel",
          "state": {
            "_view_name": "LayoutView",
            "grid_template_rows": null,
            "right": null,
            "justify_content": null,
            "_view_module": "@jupyter-widgets/base",
            "overflow": null,
            "_model_module_version": "1.2.0",
            "_view_count": null,
            "flex_flow": null,
            "width": null,
            "min_width": null,
            "border": null,
            "align_items": null,
            "bottom": null,
            "_model_module": "@jupyter-widgets/base",
            "top": null,
            "grid_column": null,
            "overflow_y": null,
            "overflow_x": null,
            "grid_auto_flow": null,
            "grid_area": null,
            "grid_template_columns": null,
            "flex": null,
            "_model_name": "LayoutModel",
            "justify_items": null,
            "grid_row": null,
            "max_height": null,
            "align_content": null,
            "visibility": null,
            "align_self": null,
            "height": null,
            "min_height": null,
            "padding": null,
            "grid_auto_rows": null,
            "grid_gap": null,
            "max_width": null,
            "order": null,
            "_view_module_version": "1.2.0",
            "grid_template_areas": null,
            "object_position": null,
            "object_fit": null,
            "grid_auto_columns": null,
            "margin": null,
            "display": null,
            "left": null
          }
        },
        "d782e1075f2b47f78d43173231f78e8e": {
          "model_module": "@jupyter-widgets/controls",
          "model_name": "HBoxModel",
          "state": {
            "_view_name": "HBoxView",
            "_dom_classes": [],
            "_model_name": "HBoxModel",
            "_view_module": "@jupyter-widgets/controls",
            "_model_module_version": "1.5.0",
            "_view_count": null,
            "_view_module_version": "1.5.0",
            "box_style": "",
            "layout": "IPY_MODEL_da051dda894240e7ada9b38a2ee83391",
            "_model_module": "@jupyter-widgets/controls",
            "children": [
              "IPY_MODEL_333a987a9a9c44d38d597a9605f9a228",
              "IPY_MODEL_0bab7b0fb741464eba9c3c17449ce7d3",
              "IPY_MODEL_213a2195a4f04c74973ef8961c9b45fe"
            ]
          }
        },
        "da051dda894240e7ada9b38a2ee83391": {
          "model_module": "@jupyter-widgets/base",
          "model_name": "LayoutModel",
          "state": {
            "_view_name": "LayoutView",
            "grid_template_rows": null,
            "right": null,
            "justify_content": null,
            "_view_module": "@jupyter-widgets/base",
            "overflow": null,
            "_model_module_version": "1.2.0",
            "_view_count": null,
            "flex_flow": null,
            "width": null,
            "min_width": null,
            "border": null,
            "align_items": null,
            "bottom": null,
            "_model_module": "@jupyter-widgets/base",
            "top": null,
            "grid_column": null,
            "overflow_y": null,
            "overflow_x": null,
            "grid_auto_flow": null,
            "grid_area": null,
            "grid_template_columns": null,
            "flex": null,
            "_model_name": "LayoutModel",
            "justify_items": null,
            "grid_row": null,
            "max_height": null,
            "align_content": null,
            "visibility": null,
            "align_self": null,
            "height": null,
            "min_height": null,
            "padding": null,
            "grid_auto_rows": null,
            "grid_gap": null,
            "max_width": null,
            "order": null,
            "_view_module_version": "1.2.0",
            "grid_template_areas": null,
            "object_position": null,
            "object_fit": null,
            "grid_auto_columns": null,
            "margin": null,
            "display": null,
            "left": null
          }
        },
        "333a987a9a9c44d38d597a9605f9a228": {
          "model_module": "@jupyter-widgets/controls",
          "model_name": "HTMLModel",
          "state": {
            "_view_name": "HTMLView",
            "style": "IPY_MODEL_4d4a4b87e88d475b971a8a1c2e517a14",
            "_dom_classes": [],
            "description": "",
            "_model_name": "HTMLModel",
            "placeholder": "​",
            "_view_module": "@jupyter-widgets/controls",
            "_model_module_version": "1.5.0",
            "value": "Downloading: 100%",
            "_view_count": null,
            "_view_module_version": "1.5.0",
            "description_tooltip": null,
            "_model_module": "@jupyter-widgets/controls",
            "layout": "IPY_MODEL_a519ea9882e54227848a48fe085c8a91"
          }
        },
        "0bab7b0fb741464eba9c3c17449ce7d3": {
          "model_module": "@jupyter-widgets/controls",
          "model_name": "FloatProgressModel",
          "state": {
            "_view_name": "ProgressView",
            "style": "IPY_MODEL_98d396a455b54f24943ff39d82373290",
            "_dom_classes": [],
            "description": "",
            "_model_name": "FloatProgressModel",
            "bar_style": "success",
            "max": 456318,
            "_view_module": "@jupyter-widgets/controls",
            "_model_module_version": "1.5.0",
            "value": 456318,
            "_view_count": null,
            "_view_module_version": "1.5.0",
            "orientation": "horizontal",
            "min": 0,
            "description_tooltip": null,
            "_model_module": "@jupyter-widgets/controls",
            "layout": "IPY_MODEL_48d0ce68c7674e28b14e7791e9a9dc75"
          }
        },
        "213a2195a4f04c74973ef8961c9b45fe": {
          "model_module": "@jupyter-widgets/controls",
          "model_name": "HTMLModel",
          "state": {
            "_view_name": "HTMLView",
            "style": "IPY_MODEL_01b7da4567b047ee9f4df9ec405aa46b",
            "_dom_classes": [],
            "description": "",
            "_model_name": "HTMLModel",
            "placeholder": "​",
            "_view_module": "@jupyter-widgets/controls",
            "_model_module_version": "1.5.0",
            "value": " 456k/456k [00:00&lt;00:00, 1.62MB/s]",
            "_view_count": null,
            "_view_module_version": "1.5.0",
            "description_tooltip": null,
            "_model_module": "@jupyter-widgets/controls",
            "layout": "IPY_MODEL_21321dd78f5047bb913ca765a437433e"
          }
        },
        "4d4a4b87e88d475b971a8a1c2e517a14": {
          "model_module": "@jupyter-widgets/controls",
          "model_name": "DescriptionStyleModel",
          "state": {
            "_view_name": "StyleView",
            "_model_name": "DescriptionStyleModel",
            "description_width": "",
            "_view_module": "@jupyter-widgets/base",
            "_model_module_version": "1.5.0",
            "_view_count": null,
            "_view_module_version": "1.2.0",
            "_model_module": "@jupyter-widgets/controls"
          }
        },
        "a519ea9882e54227848a48fe085c8a91": {
          "model_module": "@jupyter-widgets/base",
          "model_name": "LayoutModel",
          "state": {
            "_view_name": "LayoutView",
            "grid_template_rows": null,
            "right": null,
            "justify_content": null,
            "_view_module": "@jupyter-widgets/base",
            "overflow": null,
            "_model_module_version": "1.2.0",
            "_view_count": null,
            "flex_flow": null,
            "width": null,
            "min_width": null,
            "border": null,
            "align_items": null,
            "bottom": null,
            "_model_module": "@jupyter-widgets/base",
            "top": null,
            "grid_column": null,
            "overflow_y": null,
            "overflow_x": null,
            "grid_auto_flow": null,
            "grid_area": null,
            "grid_template_columns": null,
            "flex": null,
            "_model_name": "LayoutModel",
            "justify_items": null,
            "grid_row": null,
            "max_height": null,
            "align_content": null,
            "visibility": null,
            "align_self": null,
            "height": null,
            "min_height": null,
            "padding": null,
            "grid_auto_rows": null,
            "grid_gap": null,
            "max_width": null,
            "order": null,
            "_view_module_version": "1.2.0",
            "grid_template_areas": null,
            "object_position": null,
            "object_fit": null,
            "grid_auto_columns": null,
            "margin": null,
            "display": null,
            "left": null
          }
        },
        "98d396a455b54f24943ff39d82373290": {
          "model_module": "@jupyter-widgets/controls",
          "model_name": "ProgressStyleModel",
          "state": {
            "_view_name": "StyleView",
            "_model_name": "ProgressStyleModel",
            "description_width": "",
            "_view_module": "@jupyter-widgets/base",
            "_model_module_version": "1.5.0",
            "_view_count": null,
            "_view_module_version": "1.2.0",
            "bar_color": null,
            "_model_module": "@jupyter-widgets/controls"
          }
        },
        "48d0ce68c7674e28b14e7791e9a9dc75": {
          "model_module": "@jupyter-widgets/base",
          "model_name": "LayoutModel",
          "state": {
            "_view_name": "LayoutView",
            "grid_template_rows": null,
            "right": null,
            "justify_content": null,
            "_view_module": "@jupyter-widgets/base",
            "overflow": null,
            "_model_module_version": "1.2.0",
            "_view_count": null,
            "flex_flow": null,
            "width": null,
            "min_width": null,
            "border": null,
            "align_items": null,
            "bottom": null,
            "_model_module": "@jupyter-widgets/base",
            "top": null,
            "grid_column": null,
            "overflow_y": null,
            "overflow_x": null,
            "grid_auto_flow": null,
            "grid_area": null,
            "grid_template_columns": null,
            "flex": null,
            "_model_name": "LayoutModel",
            "justify_items": null,
            "grid_row": null,
            "max_height": null,
            "align_content": null,
            "visibility": null,
            "align_self": null,
            "height": null,
            "min_height": null,
            "padding": null,
            "grid_auto_rows": null,
            "grid_gap": null,
            "max_width": null,
            "order": null,
            "_view_module_version": "1.2.0",
            "grid_template_areas": null,
            "object_position": null,
            "object_fit": null,
            "grid_auto_columns": null,
            "margin": null,
            "display": null,
            "left": null
          }
        },
        "01b7da4567b047ee9f4df9ec405aa46b": {
          "model_module": "@jupyter-widgets/controls",
          "model_name": "DescriptionStyleModel",
          "state": {
            "_view_name": "StyleView",
            "_model_name": "DescriptionStyleModel",
            "description_width": "",
            "_view_module": "@jupyter-widgets/base",
            "_model_module_version": "1.5.0",
            "_view_count": null,
            "_view_module_version": "1.2.0",
            "_model_module": "@jupyter-widgets/controls"
          }
        },
        "21321dd78f5047bb913ca765a437433e": {
          "model_module": "@jupyter-widgets/base",
          "model_name": "LayoutModel",
          "state": {
            "_view_name": "LayoutView",
            "grid_template_rows": null,
            "right": null,
            "justify_content": null,
            "_view_module": "@jupyter-widgets/base",
            "overflow": null,
            "_model_module_version": "1.2.0",
            "_view_count": null,
            "flex_flow": null,
            "width": null,
            "min_width": null,
            "border": null,
            "align_items": null,
            "bottom": null,
            "_model_module": "@jupyter-widgets/base",
            "top": null,
            "grid_column": null,
            "overflow_y": null,
            "overflow_x": null,
            "grid_auto_flow": null,
            "grid_area": null,
            "grid_template_columns": null,
            "flex": null,
            "_model_name": "LayoutModel",
            "justify_items": null,
            "grid_row": null,
            "max_height": null,
            "align_content": null,
            "visibility": null,
            "align_self": null,
            "height": null,
            "min_height": null,
            "padding": null,
            "grid_auto_rows": null,
            "grid_gap": null,
            "max_width": null,
            "order": null,
            "_view_module_version": "1.2.0",
            "grid_template_areas": null,
            "object_position": null,
            "object_fit": null,
            "grid_auto_columns": null,
            "margin": null,
            "display": null,
            "left": null
          }
        }
      }
    }
  },
  "cells": [
    {
      "cell_type": "markdown",
      "metadata": {
        "id": "view-in-github",
        "colab_type": "text"
      },
      "source": [
        "<a href=\"https://colab.research.google.com/github/ris27hav/ACA-Wikipedia-Simplifier/blob/main/Final%20model/Team_4/Wikipedia_Simplifier.ipynb\" target=\"_parent\"><img src=\"https://colab.research.google.com/assets/colab-badge.svg\" alt=\"Open In Colab\"/></a>"
      ]
    },
    {
      "cell_type": "markdown",
      "metadata": {
        "id": "BSW8-I5_88bV"
      },
      "source": [
        "# Wikipedia Simplifier"
      ]
    },
    {
      "cell_type": "markdown",
      "metadata": {
        "id": "1ZoFd6QdN1wt"
      },
      "source": [
        "### Import pretrained text-simplification model: *MUSS*"
      ]
    },
    {
      "cell_type": "code",
      "metadata": {
        "colab": {
          "base_uri": "https://localhost:8080/"
        },
        "id": "FfFPGur8N3Jn",
        "outputId": "3485fa8d-5cb9-4b6e-b392-bdadf6216aaa"
      },
      "source": [
        "!git clone https://github.com/ris27hav/muss/"
      ],
      "execution_count": null,
      "outputs": [
        {
          "output_type": "stream",
          "text": [
            "Cloning into 'muss'...\n",
            "remote: Enumerating objects: 325, done.\u001b[K\n",
            "remote: Counting objects: 100% (325/325), done.\u001b[K\n",
            "remote: Compressing objects: 100% (189/189), done.\u001b[K\n",
            "remote: Total 325 (delta 171), reused 274 (delta 135), pack-reused 0\u001b[K\n",
            "Receiving objects: 100% (325/325), 4.53 MiB | 10.02 MiB/s, done.\n",
            "Resolving deltas: 100% (171/171), done.\n"
          ],
          "name": "stdout"
        }
      ]
    },
    {
      "cell_type": "code",
      "metadata": {
        "id": "aslpFvlnpY53",
        "colab": {
          "base_uri": "https://localhost:8080/"
        },
        "outputId": "57c910b8-dabb-45cd-8952-babae6267854"
      },
      "source": [
        "!pip install -e muss/"
      ],
      "execution_count": null,
      "outputs": [
        {
          "output_type": "stream",
          "text": [
            "Obtaining file:///content/muss\n",
            "Requirement already satisfied: numpy>=1.18.1 in /usr/local/lib/python3.7/dist-packages (from muss==1.0) (1.19.5)\n",
            "Requirement already satisfied: pandas>=1.0.3 in /usr/local/lib/python3.7/dist-packages (from muss==1.0) (1.1.5)\n",
            "Collecting nltk>=3.4.3\n",
            "\u001b[?25l  Downloading https://files.pythonhosted.org/packages/5e/37/9532ddd4b1bbb619333d5708aaad9bf1742f051a664c3c6fa6632a105fd8/nltk-3.6.2-py3-none-any.whl (1.5MB)\n",
            "\u001b[K     |████████████████████████████████| 1.5MB 8.3MB/s \n",
            "\u001b[?25hCollecting tqdm>=4.45.0\n",
            "\u001b[?25l  Downloading https://files.pythonhosted.org/packages/7a/ec/f8ff3ccfc4e59ce619a66a0bf29dc3b49c2e8c07de29d572e191c006eaa2/tqdm-4.61.2-py2.py3-none-any.whl (76kB)\n",
            "\u001b[K     |████████████████████████████████| 81kB 11.9MB/s \n",
            "\u001b[?25hRequirement already satisfied: sklearn>=0.0 in /usr/local/lib/python3.7/dist-packages (from muss==1.0) (0.0)\n",
            "Requirement already satisfied: torch>=1.4.0 in /usr/local/lib/python3.7/dist-packages (from muss==1.0) (1.9.0+cu102)\n",
            "Requirement already satisfied: scipy>=1.3.1 in /usr/local/lib/python3.7/dist-packages (from muss==1.0) (1.4.1)\n",
            "Collecting gitpython\n",
            "\u001b[?25l  Downloading https://files.pythonhosted.org/packages/bc/91/b38c4fabb6e5092ab23492ded4f318ab7299b19263272b703478038c0fbc/GitPython-3.1.18-py3-none-any.whl (170kB)\n",
            "\u001b[K     |████████████████████████████████| 174kB 52.9MB/s \n",
            "\u001b[?25hRequirement already satisfied: spacy>=2.1.3 in /usr/local/lib/python3.7/dist-packages (from muss==1.0) (2.2.4)\n",
            "Requirement already satisfied: joblib>=0.13.2 in /usr/local/lib/python3.7/dist-packages (from muss==1.0) (1.0.1)\n",
            "Collecting python-Levenshtein>=0.12.0\n",
            "\u001b[?25l  Downloading https://files.pythonhosted.org/packages/2a/dc/97f2b63ef0fa1fd78dcb7195aca577804f6b2b51e712516cc0e902a9a201/python-Levenshtein-0.12.2.tar.gz (50kB)\n",
            "\u001b[K     |████████████████████████████████| 51kB 8.7MB/s \n",
            "\u001b[?25hCollecting fairseq==0.10.2\n",
            "\u001b[?25l  Downloading https://files.pythonhosted.org/packages/15/ab/92c6efb05ffdfe16fbdc9e463229d9af8c3b74dc943ed4b4857a87b223c2/fairseq-0.10.2-cp37-cp37m-manylinux1_x86_64.whl (1.7MB)\n",
            "\u001b[K     |████████████████████████████████| 1.7MB 36.5MB/s \n",
            "\u001b[?25hCollecting truecase\n",
            "\u001b[?25l  Downloading https://files.pythonhosted.org/packages/6a/ec/ca9dc9ab492aebc57af351709355d74d90e2b71c2b75befd2a1bf2c5db78/truecase-0.0.14-py3-none-any.whl (28.4MB)\n",
            "\u001b[K     |████████████████████████████████| 28.4MB 105kB/s \n",
            "\u001b[?25hCollecting sentencepiece>=0.1.83\n",
            "\u001b[?25l  Downloading https://files.pythonhosted.org/packages/ac/aa/1437691b0c7c83086ebb79ce2da16e00bef024f24fec2a5161c35476f499/sentencepiece-0.1.96-cp37-cp37m-manylinux_2_17_x86_64.manylinux2014_x86_64.whl (1.2MB)\n",
            "\u001b[K     |████████████████████████████████| 1.2MB 50.2MB/s \n",
            "\u001b[?25hCollecting imohash>=1.0.4\n",
            "  Downloading https://files.pythonhosted.org/packages/72/5d/27347eaeedb44f5a5d965a096dd6177109550cc0e5918c3164e4b2bf754c/imohash-1.0.4-py2.py3-none-any.whl\n",
            "Requirement already satisfied: cachetools>=4.0.0 in /usr/local/lib/python3.7/dist-packages (from muss==1.0) (4.2.2)\n",
            "Requirement already satisfied: dill>=0.3.0 in /usr/local/lib/python3.7/dist-packages (from muss==1.0) (0.3.4)\n",
            "Collecting submitit\n",
            "\u001b[?25l  Downloading https://files.pythonhosted.org/packages/bf/e9/c206d0199a71656ea2ceba9a96cf436a1c9581ecf171dfaf1cc54ec42d3a/submitit-1.3.3.tar.gz (54kB)\n",
            "\u001b[K     |████████████████████████████████| 61kB 10.1MB/s \n",
            "\u001b[?25h  Installing build dependencies ... \u001b[?25l\u001b[?25hdone\n",
            "  Getting requirements to build wheel ... \u001b[?25l\u001b[?25hdone\n",
            "    Preparing wheel metadata ... \u001b[?25l\u001b[?25hdone\n",
            "Collecting faiss-gpu\n",
            "\u001b[?25l  Downloading https://files.pythonhosted.org/packages/e6/20/cce8f99dde167453ea108f35cd4bfffcc318a314aaf1bdfb167f6be2c989/faiss_gpu-1.7.1.post2-cp37-cp37m-manylinux_2_17_x86_64.manylinux2014_x86_64.whl (89.7MB)\n",
            "\u001b[K     |████████████████████████████████| 89.7MB 94kB/s \n",
            "\u001b[?25hCollecting sacremoses>=0.0.38\n",
            "\u001b[?25l  Downloading https://files.pythonhosted.org/packages/75/ee/67241dc87f266093c533a2d4d3d69438e57d7a90abb216fa076e7d475d4a/sacremoses-0.0.45-py3-none-any.whl (895kB)\n",
            "\u001b[K     |████████████████████████████████| 901kB 45.2MB/s \n",
            "\u001b[?25hCollecting nevergrad>=0.4.0.post3\n",
            "\u001b[?25l  Downloading https://files.pythonhosted.org/packages/5c/fa/6005e9e15784fb22ce5ea078c95a0677c618a2fca90a2630b6df0ea5e7f9/nevergrad-0.4.3.post4-py3-none-any.whl (381kB)\n",
            "\u001b[K     |████████████████████████████████| 389kB 48.0MB/s \n",
            "\u001b[?25hRequirement already satisfied: editdistance>=0.5.3 in /usr/local/lib/python3.7/dist-packages (from muss==1.0) (0.5.3)\n",
            "Collecting tokenizers>=0.5.2\n",
            "\u001b[?25l  Downloading https://files.pythonhosted.org/packages/d4/e2/df3543e8ffdab68f5acc73f613de9c2b155ac47f162e725dcac87c521c11/tokenizers-0.10.3-cp37-cp37m-manylinux_2_5_x86_64.manylinux1_x86_64.manylinux_2_12_x86_64.manylinux2010_x86_64.whl (3.3MB)\n",
            "\u001b[K     |████████████████████████████████| 3.3MB 41.7MB/s \n",
            "\u001b[?25hCollecting easse@ git+git://github.com/feralvam/easse.git\n",
            "  Cloning git://github.com/feralvam/easse.git to /tmp/pip-install-4hv7io5r/easse\n",
            "  Running command git clone -q git://github.com/feralvam/easse.git /tmp/pip-install-4hv7io5r/easse\n",
            "Collecting kenlm@ git+git://github.com/kpu/kenlm.git\n",
            "  Cloning git://github.com/kpu/kenlm.git to /tmp/pip-install-4hv7io5r/kenlm\n",
            "  Running command git clone -q git://github.com/kpu/kenlm.git /tmp/pip-install-4hv7io5r/kenlm\n",
            "Collecting cachier>=1.2.8\n",
            "  Downloading https://files.pythonhosted.org/packages/62/49/0eda73732e333d2978bc8576037efc31d0b69b9c4d499588fe27c1189f2e/cachier-1.5.0-py2.py3-none-any.whl\n",
            "Requirement already satisfied: python-dateutil>=2.7.3 in /usr/local/lib/python3.7/dist-packages (from pandas>=1.0.3->muss==1.0) (2.8.1)\n",
            "Requirement already satisfied: pytz>=2017.2 in /usr/local/lib/python3.7/dist-packages (from pandas>=1.0.3->muss==1.0) (2018.9)\n",
            "Requirement already satisfied: regex in /usr/local/lib/python3.7/dist-packages (from nltk>=3.4.3->muss==1.0) (2019.12.20)\n",
            "Requirement already satisfied: click in /usr/local/lib/python3.7/dist-packages (from nltk>=3.4.3->muss==1.0) (7.1.2)\n",
            "Requirement already satisfied: scikit-learn in /usr/local/lib/python3.7/dist-packages (from sklearn>=0.0->muss==1.0) (0.22.2.post1)\n",
            "Requirement already satisfied: typing-extensions in /usr/local/lib/python3.7/dist-packages (from torch>=1.4.0->muss==1.0) (3.7.4.3)\n",
            "Collecting gitdb<5,>=4.0.1\n",
            "\u001b[?25l  Downloading https://files.pythonhosted.org/packages/ea/e8/f414d1a4f0bbc668ed441f74f44c116d9816833a48bf81d22b697090dba8/gitdb-4.0.7-py3-none-any.whl (63kB)\n",
            "\u001b[K     |████████████████████████████████| 71kB 11.7MB/s \n",
            "\u001b[?25hRequirement already satisfied: thinc==7.4.0 in /usr/local/lib/python3.7/dist-packages (from spacy>=2.1.3->muss==1.0) (7.4.0)\n",
            "Requirement already satisfied: murmurhash<1.1.0,>=0.28.0 in /usr/local/lib/python3.7/dist-packages (from spacy>=2.1.3->muss==1.0) (1.0.5)\n",
            "Requirement already satisfied: requests<3.0.0,>=2.13.0 in /usr/local/lib/python3.7/dist-packages (from spacy>=2.1.3->muss==1.0) (2.23.0)\n",
            "Requirement already satisfied: plac<1.2.0,>=0.9.6 in /usr/local/lib/python3.7/dist-packages (from spacy>=2.1.3->muss==1.0) (1.1.3)\n",
            "Requirement already satisfied: preshed<3.1.0,>=3.0.2 in /usr/local/lib/python3.7/dist-packages (from spacy>=2.1.3->muss==1.0) (3.0.5)\n",
            "Requirement already satisfied: setuptools in /usr/local/lib/python3.7/dist-packages (from spacy>=2.1.3->muss==1.0) (57.0.0)\n",
            "Requirement already satisfied: catalogue<1.1.0,>=0.0.7 in /usr/local/lib/python3.7/dist-packages (from spacy>=2.1.3->muss==1.0) (1.0.0)\n",
            "Requirement already satisfied: cymem<2.1.0,>=2.0.2 in /usr/local/lib/python3.7/dist-packages (from spacy>=2.1.3->muss==1.0) (2.0.5)\n",
            "Requirement already satisfied: wasabi<1.1.0,>=0.4.0 in /usr/local/lib/python3.7/dist-packages (from spacy>=2.1.3->muss==1.0) (0.8.2)\n",
            "Requirement already satisfied: srsly<1.1.0,>=1.0.2 in /usr/local/lib/python3.7/dist-packages (from spacy>=2.1.3->muss==1.0) (1.0.5)\n",
            "Requirement already satisfied: blis<0.5.0,>=0.4.0 in /usr/local/lib/python3.7/dist-packages (from spacy>=2.1.3->muss==1.0) (0.4.1)\n",
            "Requirement already satisfied: cffi in /usr/local/lib/python3.7/dist-packages (from fairseq==0.10.2->muss==1.0) (1.14.6)\n",
            "Collecting dataclasses\n",
            "  Downloading https://files.pythonhosted.org/packages/26/2f/1095cdc2868052dd1e64520f7c0d5c8c550ad297e944e641dbf1ffbb9a5d/dataclasses-0.6-py3-none-any.whl\n",
            "Requirement already satisfied: cython in /usr/local/lib/python3.7/dist-packages (from fairseq==0.10.2->muss==1.0) (0.29.23)\n",
            "Collecting sacrebleu>=1.4.12\n",
            "\u001b[?25l  Downloading https://files.pythonhosted.org/packages/7e/57/0c7ca4e31a126189dab99c19951910bd081dea5bbd25f24b77107750eae7/sacrebleu-1.5.1-py3-none-any.whl (54kB)\n",
            "\u001b[K     |████████████████████████████████| 61kB 9.4MB/s \n",
            "\u001b[?25hCollecting hydra-core\n",
            "\u001b[?25l  Downloading https://files.pythonhosted.org/packages/c3/cd/85aa2e3a8babc36feac99df785e54abf99afbc4acc20488630f3ef46980a/hydra_core-1.1.0-py3-none-any.whl (144kB)\n",
            "\u001b[K     |████████████████████████████████| 153kB 33.6MB/s \n",
            "\u001b[?25hCollecting mmh3>=2.5.1\n",
            "\u001b[?25l  Downloading https://files.pythonhosted.org/packages/d9/46/0e568554c7f70ebc3de0c2b2effd3f7b25e66e0e4e0eacaeb7c9145949f2/mmh3-3.0.0-cp37-cp37m-manylinux2010_x86_64.whl (50kB)\n",
            "\u001b[K     |████████████████████████████████| 51kB 8.5MB/s \n",
            "\u001b[?25hCollecting varint>=1.0.2\n",
            "  Downloading https://files.pythonhosted.org/packages/a8/fe/1ea0ba0896dfa47186692655b86db3214c4b7c9e0e76c7b1dc257d101ab1/varint-1.0.2.tar.gz\n",
            "Requirement already satisfied: cloudpickle>=1.2.1 in /usr/local/lib/python3.7/dist-packages (from submitit->muss==1.0) (1.3.0)\n",
            "Requirement already satisfied: six in /usr/local/lib/python3.7/dist-packages (from sacremoses>=0.0.38->muss==1.0) (1.15.0)\n",
            "Collecting bayesian-optimization>=1.2.0\n",
            "  Downloading https://files.pythonhosted.org/packages/bb/7a/fd8059a3881d3ab37ac8f72f56b73937a14e8bb14a9733e68cc8b17dbe3c/bayesian-optimization-1.2.0.tar.gz\n",
            "Collecting cma>=2.6.0\n",
            "\u001b[?25l  Downloading https://files.pythonhosted.org/packages/d5/41/2e59507b1f2a904ff6aae9130f21756d19d5d7bb28558215de7614bf6cfd/cma-3.1.0-py2.py3-none-any.whl (269kB)\n",
            "\u001b[K     |████████████████████████████████| 276kB 47.7MB/s \n",
            "\u001b[?25hRequirement already satisfied: matplotlib in /usr/local/lib/python3.7/dist-packages (from easse@ git+git://github.com/feralvam/easse.git->muss==1.0) (3.2.2)\n",
            "Requirement already satisfied: seaborn in /usr/local/lib/python3.7/dist-packages (from easse@ git+git://github.com/feralvam/easse.git->muss==1.0) (0.11.1)\n",
            "Collecting stanfordnlp\n",
            "\u001b[?25l  Downloading https://files.pythonhosted.org/packages/41/bf/5d2898febb6e993fcccd90484cba3c46353658511a41430012e901824e94/stanfordnlp-0.2.0-py3-none-any.whl (158kB)\n",
            "\u001b[K     |████████████████████████████████| 163kB 54.9MB/s \n",
            "\u001b[?25hCollecting yattag\n",
            "  Downloading https://files.pythonhosted.org/packages/a2/dc/53ce10a508df291c973293535536961fdc014de088cf0c9534165af880d5/yattag-1.14.0.tar.gz\n",
            "Requirement already satisfied: plotly>=4.0.0 in /usr/local/lib/python3.7/dist-packages (from easse@ git+git://github.com/feralvam/easse.git->muss==1.0) (4.4.1)\n",
            "Collecting bert_score\n",
            "\u001b[?25l  Downloading https://files.pythonhosted.org/packages/38/fb/e63e7e231a79db0489dbf7e7d0ebfb279ccb3d8216aa0d133572f784f3fa/bert_score-0.3.9-py3-none-any.whl (59kB)\n",
            "\u001b[K     |████████████████████████████████| 61kB 8.9MB/s \n",
            "\u001b[?25hCollecting tseval@ git+https://github.com/facebookresearch/text-simplification-evaluation.git\n",
            "  Cloning https://github.com/facebookresearch/text-simplification-evaluation.git to /tmp/pip-install-4hv7io5r/tseval\n",
            "  Running command git clone -q https://github.com/facebookresearch/text-simplification-evaluation.git /tmp/pip-install-4hv7io5r/tseval\n",
            "Collecting simalign@ git+https://github.com/cisnlp/simalign.git\n",
            "  Cloning https://github.com/cisnlp/simalign.git to /tmp/pip-install-4hv7io5r/simalign\n",
            "  Running command git clone -q https://github.com/cisnlp/simalign.git /tmp/pip-install-4hv7io5r/simalign\n",
            "Collecting watchdog\n",
            "\u001b[?25l  Downloading https://files.pythonhosted.org/packages/6b/d1/b0a1e69af06d2f6f47a11238ca115667d858cbb30baf6b6df03f1b874163/watchdog-2.1.3-py3-none-manylinux2014_x86_64.whl (75kB)\n",
            "\u001b[K     |████████████████████████████████| 81kB 11.5MB/s \n",
            "\u001b[?25hCollecting portalocker\n",
            "  Downloading https://files.pythonhosted.org/packages/68/33/cb524f4de298509927b90aa5ee34767b9a2b93e663cf354b2a3efa2b4acd/portalocker-2.3.0-py2.py3-none-any.whl\n",
            "Collecting pathtools\n",
            "  Downloading https://files.pythonhosted.org/packages/e7/7f/470d6fcdf23f9f3518f6b0b76be9df16dcc8630ad409947f8be2eb0ed13a/pathtools-0.1.2.tar.gz\n",
            "Collecting smmap<5,>=3.0.1\n",
            "  Downloading https://files.pythonhosted.org/packages/68/ee/d540eb5e5996eb81c26ceffac6ee49041d473bc5125f2aa995cf51ec1cf1/smmap-4.0.0-py2.py3-none-any.whl\n",
            "Requirement already satisfied: certifi>=2017.4.17 in /usr/local/lib/python3.7/dist-packages (from requests<3.0.0,>=2.13.0->spacy>=2.1.3->muss==1.0) (2021.5.30)\n",
            "Requirement already satisfied: idna<3,>=2.5 in /usr/local/lib/python3.7/dist-packages (from requests<3.0.0,>=2.13.0->spacy>=2.1.3->muss==1.0) (2.10)\n",
            "Requirement already satisfied: chardet<4,>=3.0.2 in /usr/local/lib/python3.7/dist-packages (from requests<3.0.0,>=2.13.0->spacy>=2.1.3->muss==1.0) (3.0.4)\n",
            "Requirement already satisfied: urllib3!=1.25.0,!=1.25.1,<1.26,>=1.21.1 in /usr/local/lib/python3.7/dist-packages (from requests<3.0.0,>=2.13.0->spacy>=2.1.3->muss==1.0) (1.24.3)\n",
            "Requirement already satisfied: importlib-metadata>=0.20; python_version < \"3.8\" in /usr/local/lib/python3.7/dist-packages (from catalogue<1.1.0,>=0.0.7->spacy>=2.1.3->muss==1.0) (4.6.1)\n",
            "Requirement already satisfied: pycparser in /usr/local/lib/python3.7/dist-packages (from cffi->fairseq==0.10.2->muss==1.0) (2.20)\n",
            "Collecting antlr4-python3-runtime==4.8\n",
            "\u001b[?25l  Downloading https://files.pythonhosted.org/packages/56/02/789a0bddf9c9b31b14c3e79ec22b9656185a803dc31c15f006f9855ece0d/antlr4-python3-runtime-4.8.tar.gz (112kB)\n",
            "\u001b[K     |████████████████████████████████| 112kB 52.3MB/s \n",
            "\u001b[?25hCollecting omegaconf==2.1.*\n",
            "\u001b[?25l  Downloading https://files.pythonhosted.org/packages/f9/96/1966b48bfe6ca64bfadfa7bcc9a8d73c5d83b4be769321fcc5d617abeb0c/omegaconf-2.1.0-py3-none-any.whl (74kB)\n",
            "\u001b[K     |████████████████████████████████| 81kB 12.6MB/s \n",
            "\u001b[?25hRequirement already satisfied: importlib-resources; python_version < \"3.9\" in /usr/local/lib/python3.7/dist-packages (from hydra-core->fairseq==0.10.2->muss==1.0) (5.2.0)\n",
            "Requirement already satisfied: cycler>=0.10 in /usr/local/lib/python3.7/dist-packages (from matplotlib->easse@ git+git://github.com/feralvam/easse.git->muss==1.0) (0.10.0)\n",
            "Requirement already satisfied: pyparsing!=2.0.4,!=2.1.2,!=2.1.6,>=2.0.1 in /usr/local/lib/python3.7/dist-packages (from matplotlib->easse@ git+git://github.com/feralvam/easse.git->muss==1.0) (2.4.7)\n",
            "Requirement already satisfied: kiwisolver>=1.0.1 in /usr/local/lib/python3.7/dist-packages (from matplotlib->easse@ git+git://github.com/feralvam/easse.git->muss==1.0) (1.3.1)\n",
            "Requirement already satisfied: protobuf in /usr/local/lib/python3.7/dist-packages (from stanfordnlp->easse@ git+git://github.com/feralvam/easse.git->muss==1.0) (3.17.3)\n",
            "Requirement already satisfied: retrying>=1.3.3 in /usr/local/lib/python3.7/dist-packages (from plotly>=4.0.0->easse@ git+git://github.com/feralvam/easse.git->muss==1.0) (1.3.3)\n",
            "Collecting transformers>=3.0.0\n",
            "\u001b[?25l  Downloading https://files.pythonhosted.org/packages/fd/1a/41c644c963249fd7f3836d926afa1e3f1cc234a1c40d80c5f03ad8f6f1b2/transformers-4.8.2-py3-none-any.whl (2.5MB)\n",
            "\u001b[K     |████████████████████████████████| 2.5MB 44.8MB/s \n",
            "\u001b[?25hCollecting networkx==2.4\n",
            "\u001b[?25l  Downloading https://files.pythonhosted.org/packages/41/8f/dd6a8e85946def36e4f2c69c84219af0fa5e832b018c970e92f2ad337e45/networkx-2.4-py3-none-any.whl (1.6MB)\n",
            "\u001b[K     |████████████████████████████████| 1.6MB 38.5MB/s \n",
            "\u001b[?25hRequirement already satisfied: zipp>=0.5 in /usr/local/lib/python3.7/dist-packages (from importlib-metadata>=0.20; python_version < \"3.8\"->catalogue<1.1.0,>=0.0.7->spacy>=2.1.3->muss==1.0) (3.5.0)\n",
            "Collecting PyYAML>=5.1.*\n",
            "\u001b[?25l  Downloading https://files.pythonhosted.org/packages/7a/a5/393c087efdc78091afa2af9f1378762f9821c9c1d7a22c5753fb5ac5f97a/PyYAML-5.4.1-cp37-cp37m-manylinux1_x86_64.whl (636kB)\n",
            "\u001b[K     |████████████████████████████████| 645kB 34.0MB/s \n",
            "\u001b[?25hCollecting huggingface-hub==0.0.12\n",
            "  Downloading https://files.pythonhosted.org/packages/2f/ee/97e253668fda9b17e968b3f97b2f8e53aa0127e8807d24a547687423fe0b/huggingface_hub-0.0.12-py3-none-any.whl\n",
            "Requirement already satisfied: packaging in /usr/local/lib/python3.7/dist-packages (from transformers>=3.0.0->bert_score->easse@ git+git://github.com/feralvam/easse.git->muss==1.0) (21.0)\n",
            "Requirement already satisfied: filelock in /usr/local/lib/python3.7/dist-packages (from transformers>=3.0.0->bert_score->easse@ git+git://github.com/feralvam/easse.git->muss==1.0) (3.0.12)\n",
            "Requirement already satisfied: decorator>=4.3.0 in /usr/local/lib/python3.7/dist-packages (from networkx==2.4->simalign@ git+https://github.com/cisnlp/simalign.git->easse@ git+git://github.com/feralvam/easse.git->muss==1.0) (4.4.2)\n",
            "Building wheels for collected packages: submitit\n",
            "  Building wheel for submitit (PEP 517) ... \u001b[?25l\u001b[?25hdone\n",
            "  Created wheel for submitit: filename=submitit-1.3.3-cp37-none-any.whl size=66089 sha256=b69cc2d23e415893164a086d51a00f5f59757326837a0ce865ea5165227e8899\n",
            "  Stored in directory: /root/.cache/pip/wheels/75/be/c1/c57fe81efce574db4e4b3d23f26c1b75bd1d6af1124f29a78d\n",
            "Successfully built submitit\n",
            "Building wheels for collected packages: python-Levenshtein, easse, kenlm, varint, bayesian-optimization, yattag, tseval, simalign, pathtools, antlr4-python3-runtime\n",
            "  Building wheel for python-Levenshtein (setup.py) ... \u001b[?25l\u001b[?25hdone\n",
            "  Created wheel for python-Levenshtein: filename=python_Levenshtein-0.12.2-cp37-cp37m-linux_x86_64.whl size=149824 sha256=067701789bc53f114493660dafbb5c0259eccead8789eb7d9c2d178b07781e77\n",
            "  Stored in directory: /root/.cache/pip/wheels/b3/26/73/4b48503bac73f01cf18e52cd250947049a7f339e940c5df8fc\n",
            "  Building wheel for easse (setup.py) ... \u001b[?25l\u001b[?25hdone\n",
            "  Created wheel for easse: filename=easse-0.2.4-cp37-none-any.whl size=17949076 sha256=2ec0944b89bba67f720f84afef818dd40428d8b9feb93576a5031a8046d8a2b0\n",
            "  Stored in directory: /tmp/pip-ephem-wheel-cache-s8yyf0l4/wheels/b1/7a/f7/5d5d05b5c333984cd88e73cc1f8dc7e55ec3ea51ae85b7ea32\n",
            "  Building wheel for kenlm (setup.py) ... \u001b[?25l\u001b[?25hdone\n",
            "  Created wheel for kenlm: filename=kenlm-0.0.0-cp37-cp37m-linux_x86_64.whl size=2338490 sha256=10cc4f35065167ca2efa18cfe6c156c3799acfa19781f80424d08c646d62ba79\n",
            "  Stored in directory: /tmp/pip-ephem-wheel-cache-s8yyf0l4/wheels/2f/aa/73/e0e5c4d0dc2988a0dd85f3b97771b5cfd2166d2059816f92a9\n",
            "  Building wheel for varint (setup.py) ... \u001b[?25l\u001b[?25hdone\n",
            "  Created wheel for varint: filename=varint-1.0.2-cp37-none-any.whl size=1980 sha256=79a3bc4b8002cdf38a43badc09ef0032e546eace6f3823ca44700c50597db31e\n",
            "  Stored in directory: /root/.cache/pip/wheels/87/62/fe/15e506bdde650fdd4e63d3eb91a1c3582ff1ee450e88e89d9e\n",
            "  Building wheel for bayesian-optimization (setup.py) ... \u001b[?25l\u001b[?25hdone\n",
            "  Created wheel for bayesian-optimization: filename=bayesian_optimization-1.2.0-cp37-none-any.whl size=11686 sha256=e4204c839f52442c000cfcf5a56afb45b532abb3be30476f920eee665f4fb3fc\n",
            "  Stored in directory: /root/.cache/pip/wheels/5a/56/ae/e0e3c1fc1954dc3ec712e2df547235ed072b448094d8f94aec\n",
            "  Building wheel for yattag (setup.py) ... \u001b[?25l\u001b[?25hdone\n",
            "  Created wheel for yattag: filename=yattag-1.14.0-cp37-none-any.whl size=15659 sha256=1b6599d8c3b9725796cad683932dba75bb9800a6c81eb226844715e70dfa4b7b\n",
            "  Stored in directory: /root/.cache/pip/wheels/f9/f7/03/c04356ec5f399b897afb5242246a54faa292d9d190cad31430\n",
            "  Building wheel for tseval (setup.py) ... \u001b[?25l\u001b[?25hdone\n",
            "  Created wheel for tseval: filename=tseval-1.0-cp37-none-any.whl size=8536656 sha256=a56f420a15950fc691b8365346c3c8416fdbaa890190c52bb375f521044aff25\n",
            "  Stored in directory: /tmp/pip-ephem-wheel-cache-s8yyf0l4/wheels/66/ce/57/ba6e236f6c0a0500a633c945517fddd8594ef9f1244a215889\n",
            "  Building wheel for simalign (setup.py) ... \u001b[?25l\u001b[?25hdone\n",
            "  Created wheel for simalign: filename=simalign-0.2-cp37-none-any.whl size=5575 sha256=1cd80ba486909594ab8136f6707cc7be75237902ea2ba5e1c62be0da81d291e1\n",
            "  Stored in directory: /tmp/pip-ephem-wheel-cache-s8yyf0l4/wheels/03/82/85/ea8257c402ccd3f3ffc8887438f151f94402300db79f044f4d\n",
            "  Building wheel for pathtools (setup.py) ... \u001b[?25l\u001b[?25hdone\n",
            "  Created wheel for pathtools: filename=pathtools-0.1.2-cp37-none-any.whl size=8807 sha256=4d73f1b9f0b15ecf3bf6376d66eab53bb0f293354712f564ed15099bc2f85c64\n",
            "  Stored in directory: /root/.cache/pip/wheels/0b/04/79/c3b0c3a0266a3cb4376da31e5bfe8bba0c489246968a68e843\n",
            "  Building wheel for antlr4-python3-runtime (setup.py) ... \u001b[?25l\u001b[?25hdone\n",
            "  Created wheel for antlr4-python3-runtime: filename=antlr4_python3_runtime-4.8-cp37-none-any.whl size=141231 sha256=1ec4e353f4af32770306bc63b0d0416174f8f7428b4f18a204ceadf41c85e03b\n",
            "  Stored in directory: /root/.cache/pip/wheels/e3/e2/fa/b78480b448b8579ddf393bebd3f47ee23aa84c89b6a78285c8\n",
            "Successfully built python-Levenshtein easse kenlm varint bayesian-optimization yattag tseval simalign pathtools antlr4-python3-runtime\n",
            "\u001b[31mERROR: albumentations 0.1.12 has requirement imgaug<0.2.7,>=0.2.5, but you'll have imgaug 0.2.9 which is incompatible.\u001b[0m\n",
            "\u001b[31mERROR: sacrebleu 1.5.1 has requirement portalocker==2.0.0, but you'll have portalocker 2.3.0 which is incompatible.\u001b[0m\n",
            "\u001b[31mERROR: easse 0.2.4 has requirement nltk==3.4.3, but you'll have nltk 3.6.2 which is incompatible.\u001b[0m\n",
            "Installing collected packages: tqdm, nltk, smmap, gitdb, gitpython, python-Levenshtein, dataclasses, portalocker, sacrebleu, antlr4-python3-runtime, PyYAML, omegaconf, hydra-core, fairseq, truecase, sentencepiece, mmh3, varint, imohash, submitit, faiss-gpu, sacremoses, bayesian-optimization, cma, nevergrad, tokenizers, stanfordnlp, yattag, huggingface-hub, transformers, bert-score, tseval, networkx, simalign, easse, kenlm, watchdog, pathtools, cachier, muss\n",
            "  Found existing installation: tqdm 4.41.1\n",
            "    Uninstalling tqdm-4.41.1:\n",
            "      Successfully uninstalled tqdm-4.41.1\n",
            "  Found existing installation: nltk 3.2.5\n",
            "    Uninstalling nltk-3.2.5:\n",
            "      Successfully uninstalled nltk-3.2.5\n",
            "  Found existing installation: PyYAML 3.13\n",
            "    Uninstalling PyYAML-3.13:\n",
            "      Successfully uninstalled PyYAML-3.13\n",
            "  Found existing installation: networkx 2.5.1\n",
            "    Uninstalling networkx-2.5.1:\n",
            "      Successfully uninstalled networkx-2.5.1\n",
            "  Running setup.py develop for muss\n",
            "Successfully installed PyYAML-5.4.1 antlr4-python3-runtime-4.8 bayesian-optimization-1.2.0 bert-score-0.3.9 cachier-1.5.0 cma-3.1.0 dataclasses-0.6 easse-0.2.4 fairseq-0.10.2 faiss-gpu-1.7.1.post2 gitdb-4.0.7 gitpython-3.1.18 huggingface-hub-0.0.12 hydra-core-1.1.0 imohash-1.0.4 kenlm-0.0.0 mmh3-3.0.0 muss networkx-2.4 nevergrad-0.4.3.post4 nltk-3.6.2 omegaconf-2.1.0 pathtools-0.1.2 portalocker-2.3.0 python-Levenshtein-0.12.2 sacrebleu-1.5.1 sacremoses-0.0.45 sentencepiece-0.1.96 simalign-0.2 smmap-4.0.0 stanfordnlp-0.2.0 submitit-1.3.3 tokenizers-0.10.3 tqdm-4.61.2 transformers-4.8.2 truecase-0.0.14 tseval-1.0 varint-1.0.2 watchdog-2.1.3 yattag-1.14.0\n"
          ],
          "name": "stdout"
        },
        {
          "output_type": "display_data",
          "data": {
            "application/vnd.colab-display-data+json": {
              "pip_warning": {
                "packages": [
                  "pydevd_plugins"
                ]
              }
            }
          },
          "metadata": {
            "tags": []
          }
        }
      ]
    },
    {
      "cell_type": "code",
      "metadata": {
        "colab": {
          "base_uri": "https://localhost:8080/"
        },
        "id": "H0zHV8cRqo36",
        "outputId": "937d6cb2-72d7-4279-907f-75cc33a017e3"
      },
      "source": [
        "%cd muss/"
      ],
      "execution_count": null,
      "outputs": [
        {
          "output_type": "stream",
          "text": [
            "/content/muss\n"
          ],
          "name": "stdout"
        }
      ]
    },
    {
      "cell_type": "code",
      "metadata": {
        "id": "rrgR24AYN87s",
        "colab": {
          "base_uri": "https://localhost:8080/"
        },
        "outputId": "931beeff-e59a-49ff-ef9b-50ba10e26f65"
      },
      "source": [
        "%run scripts/simplify.py scripts/examples.en --model-name muss_en_wikilarge_mined"
      ],
      "execution_count": null,
      "outputs": [
        {
          "output_type": "stream",
          "text": [
            "Downloading...\n",
            "... 100% - 3835 MB - 27.72 MB/s - 138s\n",
            "Extracting...\n",
            "Downloading...\n",
            "... 100% - 1 MB - 7.52 MB/s - 0s\n",
            "Downloading...\n",
            "... 100% - 0 MB - 4.31 MB/s - 0s\n",
            "Downloading...\n",
            "... 100% - 0 MB - 4.66 MB/s - 0s\n"
          ],
          "name": "stdout"
        },
        {
          "output_type": "stream",
          "text": [
            "INFO:fairseq_cli.generate:Namespace(all_gather_list_size=16384, batch_size=None, batch_size_valid=None, beam=5, bf16=False, bpe=None, broadcast_buffers=False, bucket_cap_mb=25, checkpoint_shard_count=1, checkpoint_suffix='', constraints=None, cpu=False, criterion='cross_entropy', curriculum=0, data='/tmp/tmp1sc0qjne', data_buffer_size=10, dataset_impl='raw', ddp_backend='c10d', decoding_format=None, device_id=0, disable_validation=False, distributed_backend='nccl', distributed_init_method=None, distributed_no_spawn=False, distributed_port=-1, distributed_rank=0, distributed_world_size=1, distributed_wrapper='DDP', diverse_beam_groups=-1, diverse_beam_strength=0.5, diversity_rate=-1.0, empty_cache_freq=0, eval_bleu=False, eval_bleu_args=None, eval_bleu_detok='space', eval_bleu_detok_args=None, eval_bleu_print_samples=False, eval_bleu_remove_bpe=None, eval_tokenized_bleu=False, fast_stat_sync=False, find_unused_parameters=False, fix_batches_to_gpus=False, fixed_validation_seed=None, force_anneal=None, fp16=False, fp16_init_scale=128, fp16_no_flatten_grads=False, fp16_scale_tolerance=0.0, fp16_scale_window=None, gen_subset='tmp', iter_decode_eos_penalty=0.0, iter_decode_force_max_iter=False, iter_decode_max_iter=10, iter_decode_with_beam=1, iter_decode_with_external_reranker=False, left_pad_source='True', left_pad_target='False', lenpen=1.0, lm_path=None, lm_weight=0.0, load_alignments=False, localsgd_frequency=3, log_format=None, log_interval=100, lr_scheduler='fixed', lr_shrink=0.1, match_source_len=False, max_len_a=0, max_len_b=200, max_source_positions=1024, max_target_positions=1024, max_tokens=8000, max_tokens_valid=8000, memory_efficient_bf16=False, memory_efficient_fp16=False, min_len=1, min_loss_scale=0.0001, model_overrides=\"{'encoder_embed_path': None, 'decoder_embed_path': None}\", model_parallel_size=1, nbest=1, no_beamable_mm=False, no_early_stop=False, no_progress_bar=False, no_repeat_ngram_size=0, no_seed_provided=False, nprocs_per_node=1, num_batch_buckets=0, num_shards=1, num_workers=1, optimizer=None, path='/content/muss/resources/models/muss_en_wikilarge_mined/model.pt', pipeline_balance=None, pipeline_checkpoint='never', pipeline_chunks=0, pipeline_decoder_balance=None, pipeline_decoder_devices=None, pipeline_devices=None, pipeline_encoder_balance=None, pipeline_encoder_devices=None, pipeline_model_parallel=False, prefix_size=0, print_alignment=False, print_step=False, profile=False, quantization_config_path=None, quiet=False, remove_bpe=None, replace_unk=None, required_batch_size_multiple=8, required_seq_len_multiple=1, results_path=None, retain_dropout=False, retain_dropout_modules=None, retain_iter_history=False, sacrebleu=False, sampling=False, sampling_topk=-1, sampling_topp=-1.0, score_reference=False, scoring='bleu', seed=1, shard_id=0, skip_invalid_size_inputs_valid_test=True, slowmo_algorithm='LocalSGD', slowmo_momentum=None, source_lang=None, target_lang=None, task='translation', temperature=1.0, tensorboard_logdir=None, threshold_loss_scale=None, tokenizer=None, tpu=False, train_subset='train', truncate_source=False, unkpen=0, unnormalized=False, upsample_primary=1, user_dir=None, valid_subset='valid', validate_after_updates=0, validate_interval=1, validate_interval_updates=0, warmup_updates=0, zero_sharding='none')\n",
            "INFO:fairseq.tasks.translation:[complex] dictionary: 50264 types\n",
            "INFO:fairseq.tasks.translation:[simple] dictionary: 50264 types\n",
            "INFO:fairseq.data.data_utils:loaded 4 examples from: /tmp/tmp1sc0qjne/tmp.complex-simple.complex\n",
            "INFO:fairseq.data.data_utils:loaded 4 examples from: /tmp/tmp1sc0qjne/tmp.complex-simple.simple\n",
            "INFO:fairseq.tasks.translation:/tmp/tmp1sc0qjne tmp complex-simple 4 examples\n",
            "INFO:fairseq_cli.generate:loading model(s) from /content/muss/resources/models/muss_en_wikilarge_mined/model.pt\n",
            "/usr/local/lib/python3.7/dist-packages/torch/_tensor.py:575: UserWarning: floor_divide is deprecated, and will be removed in a future version of pytorch. It currently rounds toward 0 (like the 'trunc' function NOT 'floor'). This results in incorrect rounding for negative values.\n",
            "To keep the current behavior, use torch.div(a, b, rounding_mode='trunc'), or for actual floor division, use torch.div(a, b, rounding_mode='floor'). (Triggered internally at  /pytorch/aten/src/ATen/native/BinaryOps.cpp:467.)\n",
            "  return torch.floor_divide(self, other)\n",
            "INFO:fairseq_cli.generate:NOTE: hypothesis and token scores are output in base 2\n",
            "INFO:fairseq_cli.generate:Translated 4 sentences (55 tokens) in 0.7s (5.60 sentences/s, 77.01 tokens/s)\n"
          ],
          "name": "stderr"
        }
      ]
    },
    {
      "cell_type": "markdown",
      "metadata": {
        "id": "Y4Tqmy0Kurhx"
      },
      "source": [
        "---\n",
        "### Get desired wikipedia article"
      ]
    },
    {
      "cell_type": "markdown",
      "metadata": {
        "id": "f79PqoSt94_C"
      },
      "source": [
        "#####**Extract wikipedia articles**"
      ]
    },
    {
      "cell_type": "code",
      "metadata": {
        "id": "Dk3oPZKO-YtE",
        "colab": {
          "base_uri": "https://localhost:8080/"
        },
        "outputId": "05d28dc1-20df-4da2-f25f-523f4da34906"
      },
      "source": [
        "%pip install wikipedia"
      ],
      "execution_count": null,
      "outputs": [
        {
          "output_type": "stream",
          "text": [
            "Requirement already satisfied: wikipedia in /usr/local/lib/python3.7/dist-packages (1.4.0)\n",
            "Requirement already satisfied: beautifulsoup4 in /usr/local/lib/python3.7/dist-packages (from wikipedia) (4.6.3)\n",
            "Requirement already satisfied: requests<3.0.0,>=2.0.0 in /usr/local/lib/python3.7/dist-packages (from wikipedia) (2.23.0)\n",
            "Requirement already satisfied: idna<3,>=2.5 in /usr/local/lib/python3.7/dist-packages (from requests<3.0.0,>=2.0.0->wikipedia) (2.10)\n",
            "Requirement already satisfied: chardet<4,>=3.0.2 in /usr/local/lib/python3.7/dist-packages (from requests<3.0.0,>=2.0.0->wikipedia) (3.0.4)\n",
            "Requirement already satisfied: certifi>=2017.4.17 in /usr/local/lib/python3.7/dist-packages (from requests<3.0.0,>=2.0.0->wikipedia) (2021.5.30)\n",
            "Requirement already satisfied: urllib3!=1.25.0,!=1.25.1,<1.26,>=1.21.1 in /usr/local/lib/python3.7/dist-packages (from requests<3.0.0,>=2.0.0->wikipedia) (1.24.3)\n"
          ],
          "name": "stdout"
        }
      ]
    },
    {
      "cell_type": "code",
      "metadata": {
        "id": "5fhPyHYfRtiB"
      },
      "source": [
        "# use text-wrapping in output\n",
        "from IPython.display import HTML, display\n",
        "\n",
        "def set_css():\n",
        "    display(HTML('''<style>pre {white-space: pre-wrap;}</style>'''))\n",
        "\n",
        "get_ipython().events.register('pre_run_cell', set_css)"
      ],
      "execution_count": null,
      "outputs": []
    },
    {
      "cell_type": "code",
      "metadata": {
        "colab": {
          "base_uri": "https://localhost:8080/",
          "height": 52
        },
        "id": "cqQ_dLFZMWCK",
        "outputId": "97ea35bc-e42a-4631-943b-3c7fb5790e22"
      },
      "source": [
        "import wikipedia\n",
        "from collections import OrderedDict\n",
        "\n",
        "result = wikipedia.search(\"messi ronaldo rivalry\")\n",
        "print(result)"
      ],
      "execution_count": null,
      "outputs": [
        {
          "output_type": "display_data",
          "data": {
            "text/html": [
              "<style>pre {white-space: pre-wrap;}</style>"
            ],
            "text/plain": [
              "<IPython.core.display.HTML object>"
            ]
          },
          "metadata": {
            "tags": []
          }
        },
        {
          "output_type": "stream",
          "text": [
            "['Messi–Ronaldo rivalry', 'Cristiano Ronaldo', 'Lionel Messi', 'List of career achievements by Cristiano Ronaldo', 'Ronaldo (Brazilian footballer)', 'List of career achievements by Lionel Messi', \"2012 FIFA Ballon d'Or\", 'New Maradona', \"Ballon d'Or\", \"Ballon d'Or Dream Team\"]\n"
          ],
          "name": "stdout"
        }
      ]
    },
    {
      "cell_type": "code",
      "metadata": {
        "id": "3p72PU3rOnQz",
        "colab": {
          "base_uri": "https://localhost:8080/",
          "height": 17
        },
        "outputId": "45c88a8c-5e24-4c91-fa93-f57f3c540f24"
      },
      "source": [
        "page = wikipedia.page(result[0])\n",
        "content = page.content"
      ],
      "execution_count": null,
      "outputs": [
        {
          "output_type": "display_data",
          "data": {
            "text/html": [
              "<style>pre {white-space: pre-wrap;}</style>"
            ],
            "text/plain": [
              "<IPython.core.display.HTML object>"
            ]
          },
          "metadata": {
            "tags": []
          }
        }
      ]
    },
    {
      "cell_type": "markdown",
      "metadata": {
        "id": "JwIEiX-DYw3N"
      },
      "source": [
        "#####**Convert the article into a dictionary**"
      ]
    },
    {
      "cell_type": "code",
      "metadata": {
        "id": "dV4uufc7TUM9",
        "colab": {
          "base_uri": "https://localhost:8080/",
          "height": 17
        },
        "outputId": "0eb26f0d-fe55-4db1-b484-8531b74f2fde"
      },
      "source": [
        "content_list = content.split('\\n\\n\\n')\n",
        "\n",
        "complex_sentences_dict = OrderedDict()\n",
        "complex_sentences_dict['== Introduction =='] = content_list.pop(0)\n",
        "\n",
        "for section in content_list:\n",
        "    section_split = section.split('\\n')\n",
        "\n",
        "    title = section_split.pop(0)\n",
        "    content = ''\n",
        "    for para in section_split:\n",
        "        if para != '':\n",
        "            content += para\n",
        "    \n",
        "    if len(content) > 200:\n",
        "        complex_sentences_dict[title] = content"
      ],
      "execution_count": null,
      "outputs": [
        {
          "output_type": "display_data",
          "data": {
            "text/html": [
              "<style>pre {white-space: pre-wrap;}</style>"
            ],
            "text/plain": [
              "<IPython.core.display.HTML object>"
            ]
          },
          "metadata": {
            "tags": []
          }
        }
      ]
    },
    {
      "cell_type": "code",
      "metadata": {
        "colab": {
          "base_uri": "https://localhost:8080/",
          "height": 1000
        },
        "id": "cq4ePpRhWYii",
        "outputId": "f2c9d9dc-cd13-4922-9337-a70644f2974d"
      },
      "source": [
        "# print the wiki article\n",
        "for title, content in complex_sentences_dict.items():\n",
        "    print(title, content, '\\n---\\n', sep='\\n')"
      ],
      "execution_count": null,
      "outputs": [
        {
          "output_type": "display_data",
          "data": {
            "text/html": [
              "<style>pre {white-space: pre-wrap;}</style>"
            ],
            "text/plain": [
              "<IPython.core.display.HTML object>"
            ]
          },
          "metadata": {
            "tags": []
          }
        },
        {
          "output_type": "stream",
          "text": [
            "== Introduction ==\n",
            "The Messi–Ronaldo rivalry is an association football rivalry between Argentine forward Lionel Messi and Portuguese forward Cristiano Ronaldo. Having won a combined eleven Ballon d'Or/FIFA Ballon d'Or awards (six for Messi and five for Ronaldo) and ten European Golden Shoe awards (six for Messi and four for Ronaldo), both are widely regarded as two of the greatest players of all time. They are two of the most decorated football players ever, having won a combined 66 trophies (Ronaldo 32, Messi 34) during their senior careers thus far, and have regularly broken the 50-goal barrier in a single season. They are amongst the 51 players in the history of the sport to score over 500 career goals, with both having scored over 700 goals each in their careers for club and country. Ronaldo currently holds the world record for most official goals in a career, while Messi has the superior goals-to-games ratio (0.81, to Ronaldo's 0.73).Journalists and pundits regularly argue the individual merits of both players in an attempt to establish who they believe is the best attacker in modern football or ever. Regardless of preference, football critics generally agree that both are the greatest players of their generation, outperforming their peers numerically, largely by a significant margin. Messi's combination of dribbling, technical, playmaking, and goalscoring skills is often considered among the very best in history, while Ronaldo's physical attributes, goalscoring skills, leadership and influence under pressure is well-appreciated worldwide. It has been compared to past global sports rivalries such as the Magic Johnson-Larry Bird rivalry in basketball, the Muhammad Ali–Joe Frazier rivalry in boxing, the Roger Federer–Rafael Nadal rivalry and the Björn Borg–John McEnroe rivalry in tennis, and the Alain Prost–Ayrton Senna rivalry in Formula One motor racing. Some commentators choose to analyse the differing physiques and playing styles of the two, while part of the debate revolves around the contrasting personalities of the two players; Ronaldo is often described as someone of temperamental character while Messi is considered to have a more reserved character.At club level, Messi and Ronaldo represented rivals FC Barcelona and Real Madrid CF for nearly a decade. The two players faced each other at least twice every season in the world's most popular regular-season club game, El Clásico (among the most viewed annual sporting events), from Ronaldo's arrival at Madrid in 2009 until his transfer to Italian club Juventus F.C. in 2018. Off the field, they are also the face of two rival sportswear manufacturers, Messi of Adidas and Ronaldo of Nike, which are also the kit suppliers of their national teams and the opposite for their clubs. The two highest-paid players in football, Messi and Ronaldo are among the world's best-paid sports stars in combined income from salaries, bonuses and off-field earnings. In 2018, Messi topped Ronaldo on the Forbes' list of highest-paid sportspeople, earning $111 million, with Ronaldo next on the list at $108 million.\n",
            "\n",
            "---\n",
            "\n",
            "== History ==\n",
            "In 2007, Ronaldo and Messi finished as runners-up to A.C. Milan's Kaká in both the Ballon d'Or, an award rewarded to the player voted as the best in the world by an international panel of sports journalists; and the FIFA World Player of the Year, an award voted for by coaches and captains of international teams. In an interview that year, Messi was quoted as saying that \"Cristiano Ronaldo is an extraordinary player and it would be brilliant to be in the same team as him.\"They first played in a game against each other when Manchester United were drawn to play Barcelona in the 2007–08 UEFA Champions League semi-finals and were immediately pitted as major rivals. Ronaldo missed a penalty in the first leg, but United eventually advanced to the final via a Paul Scholes goal. At the end of the year, Ronaldo was awarded the Ballon d'Or and vowed that he would win the award again.The 2009 UEFA Champions League Final was contested between Manchester United and Barcelona on 27 May 2009 at the Stadio Olimpico in Rome, Italy. The match, described as a \"dream clash\", was again hyped as the latest battle between the two, this time to settle who was the best player in the world; Ronaldo claimed he was the better of the two, while Messi's club-mate Xavi sided with him. Manchester United manager Alex Ferguson was more diplomatic, praising both players as being amongst the world's elite talents. Messi, playing in a central role he was unaccustomed to so he would avoid a direct battle with Manchester United left-back Patrice Evra, scored Barcelona's second in a 2–0 victory with a header in the 70th minute. Meanwhile, Ronaldo was subdued for much of the game, despite some early chances to score, and his frustration eventually showed when he was booked for a rash tackle on Carles Puyol.From 2009 to 2018, the two played against each other at least twice per season during El Clásico matches but also met many other times competitions such as the Copa del Rey, the Supercopa de España, and, a two-legged Champions League semifinal in 2011. Messi won four consecutive Ballon d'Or awards (2009 to 2012), with a fifth coming in 2015, while Ronaldo had equalled Messi's total of five with wins in 2013, 2014, 2016, and 2017. In 2019, Messi took the lead again by earning his sixth Ballon d'Or, finishing just seven points ahead of second-placed Virgil van Dijk, with Ronaldo finishing third. In total, Messi and Ronaldo reached the podium a record twelve times each. Messi won two Champions League while Ronaldo was playing for Real Madrid, with the latter securing four out of five titles between 2014 and 2018. Messi during this period won five Pichichi trophies and European Golden Shoe awards (2010, 2012, 2013, 2017 and 2018), while Ronaldo won these prizes thrice each (2011, 2014 and 2015). From 2009 to 2018, Ronaldo was the Champions League top scorer on six occasions, with Messi achieving this feat four times (including in 2015 when the pair finished joint-top).\n",
            "\n",
            "---\n",
            "\n",
            "== Relationship between Messi and Ronaldo ==\n",
            "In a 2015 interview, Ronaldo commented on the rivalry by saying: \"I think we push each other sometimes in the competition, this is why the competition is so high.\" Alex Ferguson, Ronaldo's manager during his time at Manchester United, opined: \"I don't think the rivalry against each other bothers them. I think they have their own personal pride in terms of wanting to be the best.\" Messi has denied any rivalry, and blames the media for creating it, stating that \"only the media, the press, who wants us to be at loggerheads but I've never fought with Cristiano.\"It is widely argued and documented that there is an atmosphere of competition between the duo, with Guillem Balagué claiming in the book Ronaldo that he refers to his Argentine counterpart as a \"motherfucker\" behind his back, and Luca Caioli saying in his book Ronaldo: The Obsession for Perfection that, according to his sources, Ronaldo heats up when watching Messi play. In response to claims that he and Messi do not get on well on a personal level, Ronaldo commented: \"We don't have a relationship outside the world of football, just as we don't with a lot of other players\", before adding that in years to come he hopes they can laugh about it together, stating: \"We have to look on this rivalry with a positive spirit, because it's a good thing.\" On 13 November 2014, Ronaldo also threatened to take legal action over the remarks made by Balagué. After Ronaldo's departure from Real Madrid to Juventus, Messi admitted to missing him, saying: \"I miss Cristiano. Although it was a bit difficult to see him win trophies, he gave La Liga prestige.\" During a joint interview at the UEFA Player of the Year ceremony in 2019, Ronaldo said he would like to \"have dinner together in the future\", to which Messi later replied: \"If I get an invitation, why not?\"\n",
            "\n",
            "---\n",
            "\n",
            "== Awards and records ==\n",
            "Throughout the existence of the rivalry, the pair have dominated awards ceremonies and broken a multitude of goalscoring records for both club and country, feats which have been described as \"incredible\", \"ridiculous\", and \"remarkable\", respectively. The rivalry itself has been described as one about records and reputation of the players, rather than one based in loathing.Messi is the all-time La Liga top scorer, as well as having the most goal contributions (goals + assists) in the history of the top European leagues, with comfortably over 1,000 totals; meanwhile, Ronaldo places second for goals scored and in third for assists provided, whilst being the UEFA Champions League all-time top goalscorer and assist provider, with Messi in second for both goals scored and assists provided in the competition's history, although once more having a superior ratio of goal contributions to games. Messi also holds both the most goals in a season (73), and second most assists in a season (34), just one behind midfielder Juan Mata's record. He is the outright holder of most goal contributions in a season, with 107 in 2011–12. The two had broken each other's record over the course of 2015 after Messi surpassed the previous record holder Raúl in November 2014. Ronaldo opened a gap in the 2015–16 season when he became the first player to score double figures in the group stage of the Champions League, setting the record at 11 goals. They are the first two players to score 100 goals in UEFA Champions League history.They dominated the Ballon d'Or/The Best FIFA Men's Player awards since 2008, and UEFA Men's Player of the Year Award since 2014; in 2018, their roughly decade-long triumph was ended by Luka Modrić, seen as \"the end of an era.\" In an interview for the France Football, Modrić stated that \"history will say that a Croatian player, representing his small country, won the Ballon d'Or after Cristiano Ronaldo and Lionel Messi, who are players at another level. Nobody has the right to compare themselves to them.\" Since 2008, Messi has won six Ballons d'Or to Ronaldo's five, six FIFA World's Best Player awards to Ronaldo's five, and six European Golden Shoes to Ronaldo's four.Collectively, Ronaldo has won 32 major trophies including seven league titles and five Champions Leagues, and guided Portugal to their first trophies UEFA Euro 2016 and the 2019 UEFA Nations League. He has also won four national cups, two league cups, six national super cups, two European Super Cups, and four FIFA Club World Cups.Messi has won a club record 34 major trophies as a Barcelona player, including ten league titles, four Champions Leagues, seven Copa del Rey titles, seven Spanish Super Cups, three European Super Cups, and three FIFA Club World Cups. As for youth competitions, Messi won a gold medal at the 2008 Olympic Games held in China, and he had previously won the FIFA U-20 World Cup in 2005, being elected best player and top scorer of the tournament. Moreover, Messi was runner-up at three Copa Américas and at the 2014 World Cup, before finally claiming his first major international trophy at the 2021 Copa América where he was named joint-best player and top scorer.\n",
            "\n",
            "---\n",
            "\n",
            "== Head-to-head ==\n",
            "In past years, it had been said that the rivalry between Real Madrid and Barcelona has been \"encapsulated\" by the individual rivalry between Ronaldo and Messi, with there never being a goalless El Clásico between the two.\n",
            "\n",
            "---\n",
            "\n"
          ],
          "name": "stdout"
        }
      ]
    },
    {
      "cell_type": "markdown",
      "metadata": {
        "id": "6zZmvSG-a-xt"
      },
      "source": [
        "---\n",
        "### Simplify the article"
      ]
    },
    {
      "cell_type": "code",
      "metadata": {
        "colab": {
          "base_uri": "https://localhost:8080/",
          "height": 52
        },
        "id": "AC70dZ6BwGIE",
        "outputId": "2ef81f95-f4ee-41d7-80e5-0d6624a62e8b"
      },
      "source": [
        "import nltk.data\n",
        "nltk.download('punkt')\n",
        "tokenizer = nltk.data.load('tokenizers/punkt/english.pickle')\n",
        "\n",
        "sen_length = []\n",
        "complex_sen_list = []\n",
        "\n",
        "with open('complex.en', 'w') as fo:\n",
        "    for title, content in complex_sentences_dict.items():\n",
        "        content = tokenizer.tokenize(content)\n",
        "        complex_sen_list = complex_sen_list + content\n",
        "        sen_length.append(len(content))\n",
        "\n",
        "        content = '\\n'.join(content)\n",
        "        fo.write(content + '\\n')\n",
        "\n",
        "complex_text = ' '.join(complex_sen_list)"
      ],
      "execution_count": null,
      "outputs": [
        {
          "output_type": "display_data",
          "data": {
            "text/html": [
              "<style>pre {white-space: pre-wrap;}</style>"
            ],
            "text/plain": [
              "<IPython.core.display.HTML object>"
            ]
          },
          "metadata": {
            "tags": []
          }
        },
        {
          "output_type": "stream",
          "text": [
            "[nltk_data] Downloading package punkt to /root/nltk_data...\n",
            "[nltk_data]   Package punkt is already up-to-date!\n"
          ],
          "name": "stderr"
        }
      ]
    },
    {
      "cell_type": "code",
      "metadata": {
        "colab": {
          "base_uri": "https://localhost:8080/",
          "height": 691
        },
        "id": "wHYOYL4NwGIG",
        "outputId": "6ee79e6f-f36b-438d-9ad3-f9d868d2d848"
      },
      "source": [
        "%run scripts/simplify.py complex.en --model-name muss_en_wikilarge_mined"
      ],
      "execution_count": null,
      "outputs": [
        {
          "output_type": "display_data",
          "data": {
            "text/html": [
              "<style>pre {white-space: pre-wrap;}</style>"
            ],
            "text/plain": [
              "<IPython.core.display.HTML object>"
            ]
          },
          "metadata": {
            "tags": []
          }
        },
        {
          "output_type": "stream",
          "text": [
            "INFO:fairseq_cli.generate:Namespace(all_gather_list_size=16384, batch_size=None, batch_size_valid=None, beam=5, bf16=False, bpe=None, broadcast_buffers=False, bucket_cap_mb=25, checkpoint_shard_count=1, checkpoint_suffix='', constraints=None, cpu=False, criterion='cross_entropy', curriculum=0, data='/tmp/tmpv1u5fmdc', data_buffer_size=10, dataset_impl='raw', ddp_backend='c10d', decoding_format=None, device_id=0, disable_validation=False, distributed_backend='nccl', distributed_init_method=None, distributed_no_spawn=False, distributed_port=-1, distributed_rank=0, distributed_world_size=1, distributed_wrapper='DDP', diverse_beam_groups=-1, diverse_beam_strength=0.5, diversity_rate=-1.0, empty_cache_freq=0, eval_bleu=False, eval_bleu_args=None, eval_bleu_detok='space', eval_bleu_detok_args=None, eval_bleu_print_samples=False, eval_bleu_remove_bpe=None, eval_tokenized_bleu=False, fast_stat_sync=False, find_unused_parameters=False, fix_batches_to_gpus=False, fixed_validation_seed=None, force_anneal=None, fp16=False, fp16_init_scale=128, fp16_no_flatten_grads=False, fp16_scale_tolerance=0.0, fp16_scale_window=None, gen_subset='tmp', iter_decode_eos_penalty=0.0, iter_decode_force_max_iter=False, iter_decode_max_iter=10, iter_decode_with_beam=1, iter_decode_with_external_reranker=False, left_pad_source='True', left_pad_target='False', lenpen=1.0, lm_path=None, lm_weight=0.0, load_alignments=False, localsgd_frequency=3, log_format=None, log_interval=100, lr_scheduler='fixed', lr_shrink=0.1, match_source_len=False, max_len_a=0, max_len_b=200, max_source_positions=1024, max_target_positions=1024, max_tokens=8000, max_tokens_valid=8000, memory_efficient_bf16=False, memory_efficient_fp16=False, min_len=1, min_loss_scale=0.0001, model_overrides=\"{'encoder_embed_path': None, 'decoder_embed_path': None}\", model_parallel_size=1, nbest=1, no_beamable_mm=False, no_early_stop=False, no_progress_bar=False, no_repeat_ngram_size=0, no_seed_provided=False, nprocs_per_node=1, num_batch_buckets=0, num_shards=1, num_workers=1, optimizer=None, path='/content/muss/resources/models/muss_en_wikilarge_mined/model.pt', pipeline_balance=None, pipeline_checkpoint='never', pipeline_chunks=0, pipeline_decoder_balance=None, pipeline_decoder_devices=None, pipeline_devices=None, pipeline_encoder_balance=None, pipeline_encoder_devices=None, pipeline_model_parallel=False, prefix_size=0, print_alignment=False, print_step=False, profile=False, quantization_config_path=None, quiet=False, remove_bpe=None, replace_unk=None, required_batch_size_multiple=8, required_seq_len_multiple=1, results_path=None, retain_dropout=False, retain_dropout_modules=None, retain_iter_history=False, sacrebleu=False, sampling=False, sampling_topk=-1, sampling_topp=-1.0, score_reference=False, scoring='bleu', seed=1, shard_id=0, skip_invalid_size_inputs_valid_test=True, slowmo_algorithm='LocalSGD', slowmo_momentum=None, source_lang=None, target_lang=None, task='translation', temperature=1.0, tensorboard_logdir=None, threshold_loss_scale=None, tokenizer=None, tpu=False, train_subset='train', truncate_source=False, unkpen=0, unnormalized=False, upsample_primary=1, user_dir=None, valid_subset='valid', validate_after_updates=0, validate_interval=1, validate_interval_updates=0, warmup_updates=0, zero_sharding='none')\n",
            "INFO:fairseq.tasks.translation:[complex] dictionary: 50264 types\n",
            "INFO:fairseq.tasks.translation:[simple] dictionary: 50264 types\n",
            "INFO:fairseq.data.data_utils:loaded 53 examples from: /tmp/tmpv1u5fmdc/tmp.complex-simple.complex\n",
            "INFO:fairseq.data.data_utils:loaded 53 examples from: /tmp/tmpv1u5fmdc/tmp.complex-simple.simple\n",
            "INFO:fairseq.tasks.translation:/tmp/tmpv1u5fmdc tmp complex-simple 53 examples\n",
            "INFO:fairseq_cli.generate:loading model(s) from /content/muss/resources/models/muss_en_wikilarge_mined/model.pt\n",
            "/usr/local/lib/python3.7/dist-packages/torch/_tensor.py:575: UserWarning: floor_divide is deprecated, and will be removed in a future version of pytorch. It currently rounds toward 0 (like the 'trunc' function NOT 'floor'). This results in incorrect rounding for negative values.\n",
            "To keep the current behavior, use torch.div(a, b, rounding_mode='trunc'), or for actual floor division, use torch.div(a, b, rounding_mode='floor'). (Triggered internally at  /pytorch/aten/src/ATen/native/BinaryOps.cpp:467.)\n",
            "  return torch.floor_divide(self, other)\n",
            "INFO:fairseq_cli.generate:NOTE: hypothesis and token scores are output in base 2\n",
            "INFO:fairseq_cli.generate:Translated 53 sentences (2218 tokens) in 6.6s (8.04 sentences/s, 336.45 tokens/s)\n"
          ],
          "name": "stderr"
        }
      ]
    },
    {
      "cell_type": "code",
      "metadata": {
        "id": "BwjEbOHtnGZm",
        "colab": {
          "base_uri": "https://localhost:8080/",
          "height": 17
        },
        "outputId": "404ba4cd-ed66-4704-a4e4-ebb45fc23a79"
      },
      "source": [
        "import pickle\n",
        "\n",
        "with open(\"simple.pkl\", \"rb\") as fo:\n",
        "    simple_sentences = pickle.load(fo)\n",
        "\n",
        "simple_text = ' '.join(simple_sentences)"
      ],
      "execution_count": null,
      "outputs": [
        {
          "output_type": "display_data",
          "data": {
            "text/html": [
              "<style>pre {white-space: pre-wrap;}</style>"
            ],
            "text/plain": [
              "<IPython.core.display.HTML object>"
            ]
          },
          "metadata": {
            "tags": []
          }
        }
      ]
    },
    {
      "cell_type": "markdown",
      "metadata": {
        "id": "2sK8KOsW_yje"
      },
      "source": [
        "#####**Complex-Simple pairs**"
      ]
    },
    {
      "cell_type": "code",
      "metadata": {
        "id": "IjhMeYI_wGIH",
        "colab": {
          "base_uri": "https://localhost:8080/",
          "height": 1000
        },
        "outputId": "3e33546f-a5f7-439f-94ef-bc04f48655c2"
      },
      "source": [
        "for simp, comp in zip(simple_sentences, complex_sen_list):\n",
        "    print(f'Complex== {comp} \\nSimple== {simp}\\n')"
      ],
      "execution_count": null,
      "outputs": [
        {
          "output_type": "display_data",
          "data": {
            "text/html": [
              "<style>pre {white-space: pre-wrap;}</style>"
            ],
            "text/plain": [
              "<IPython.core.display.HTML object>"
            ]
          },
          "metadata": {
            "tags": []
          }
        },
        {
          "output_type": "stream",
          "text": [
            "Complex: The Messi–Ronaldo rivalry is an association football rivalry between Argentine forward Lionel Messi and Portuguese forward Cristiano Ronaldo. \n",
            "Simple: The Messi-Ronaldo rivalry is a football rivalry between two very good football players: Cristiano Ronaldo and Lionel Messi.\n",
            "\n",
            "Complex: Having won a combined eleven Ballon d'Or/FIFA Ballon d'Or awards (six for Messi and five for Ronaldo) and ten European Golden Shoe awards (six for Messi and four for Ronaldo), both are widely regarded as two of the greatest players of all time. \n",
            "Simple: Many people think that both Messi and Ronaldo are the best players in the world today. Both have won the Ballon d'Or many times, six for Messi and five for Ronaldo, as well as many other awards, such as the European Golden Shoe.\n",
            "\n",
            "Complex: They are two of the most decorated football players ever, having won a combined 66 trophies (Ronaldo 32, Messi 34) during their senior careers thus far, and have regularly broken the 50-goal barrier in a single season. \n",
            "Simple: They are two of the most successful football players ever, having won a combined 66 trophies. Messi has won 34 trophies in his senior career, and Ronaldo has won 32 trophies in his senior career.\n",
            "\n",
            "Complex: They are amongst the 51 players in the history of the sport to score over 500 career goals, with both having scored over 700 goals each in their careers for club and country. \n",
            "Simple: They are the only two players in the history of the sport to score 500 or more goals in a single season. They have both scored over 700 goals in their careers.\n",
            "\n",
            "Complex: Ronaldo currently holds the world record for most official goals in a career, while Messi has the superior goals-to-games ratio (0.81, to Ronaldo's 0.73).Journalists and pundits regularly argue the individual merits of both players in an attempt to establish who they believe is the best attacker in modern football or ever. \n",
            "Simple: Ronaldo currently holds the world record for most official goals in a career, while Messi has the superior goals-to-games ratio (0.81, to Ronaldo's 0.73). Many people think that Ronaldo is the best player in the world today, while some people think that Messi is the best player ever.\n",
            "\n",
            "Complex: Regardless of preference, football critics generally agree that both are the greatest players of their generation, outperforming their peers numerically, largely by a significant margin. \n",
            "Simple: No matter what people think, football people generally agree that both are the greatest players of their time. Many people think they are the best players of their time.\n",
            "\n",
            "Complex: Messi's combination of dribbling, technical, playmaking, and goalscoring skills is often considered among the very best in history, while Ronaldo's physical attributes, goalscoring skills, leadership and influence under pressure is well-appreciated worldwide. \n",
            "Simple: Messi's combination of dribbling, technical, playmaking, and goalscoring skills is often considered among the very best in history, while Ronaldo's leadership and influence under pressure is well-appreciated worldwide.\n",
            "\n",
            "Complex: It has been compared to past global sports rivalries such as the Magic Johnson-Larry Bird rivalry in basketball, the Muhammad Ali–Joe Frazier rivalry in boxing, the Roger Federer–Rafael Nadal rivalry and the Björn Borg–John McEnroe rivalry in tennis, and the Alain Prost–Ayrton Senna rivalry in Formula One motor racing. \n",
            "Simple: It has been compared to past global sports rivalries such as the Muhammad Ali-Joe Frazier rivalry in boxing, the Alain Prost-Ayrton Senna rivalry in Formula One motor racing, the Björn Borg-John McEnroe rivalry in tennis, and the Roger Federer-Rafael Nadal rivalry in tennis.\n",
            "\n",
            "Complex: Some commentators choose to analyse the differing physiques and playing styles of the two, while part of the debate revolves around the contrasting personalities of the two players; Ronaldo is often described as someone of temperamental character while Messi is considered to have a more reserved character.At club level, Messi and Ronaldo represented rivals FC Barcelona and Real Madrid CF for nearly a decade. \n",
            "Simple: Some commentators choose to analyse the differing physiques and playing styles of the two, while part of the debate revolves around the contrasting personalities of the two players; Messi is often described as a player with a strong personality, while Ronaldo is considered to have a more reserved character.\n",
            "\n",
            "Complex: The two players faced each other at least twice every season in the world's most popular regular-season club game, El Clásico (among the most viewed annual sporting events), from Ronaldo's arrival at Madrid in 2009 until his transfer to Italian club Juventus F.C. \n",
            "Simple: The two players play against each other at least twice every season in the world's most popular regular-season club game, El Clásico. Since Ronaldo joined Madrid in 2009, they have played against each other at least twice every season.\n",
            "\n",
            "Complex: in 2018. \n",
            "Simple: in 2018.\n",
            "\n",
            "Complex: Off the field, they are also the face of two rival sportswear manufacturers, Messi of Adidas and Ronaldo of Nike, which are also the kit suppliers of their national teams and the opposite for their clubs. \n",
            "Simple: Off the field, they are also the face of two rival sportswear manufacturers, Adidas and Nike. Adidas and Nike both supply the national teams of both Messi and Ronaldo.\n",
            "\n",
            "Complex: The two highest-paid players in football, Messi and Ronaldo are among the world's best-paid sports stars in combined income from salaries, bonuses and off-field earnings. \n",
            "Simple: The two highest-paid players in football, Messi and Ronaldo are among the world's best-paid sports stars. They both make a lot of money from their jobs.\n",
            "\n",
            "Complex: In 2018, Messi topped Ronaldo on the Forbes' list of highest-paid sportspeople, earning $111 million, with Ronaldo next on the list at $108 million. \n",
            "Simple: In 2018, Messi made $111 million on the Forbes list of the world's most paid sportspeople. Ronaldo made $108 million on the list.\n",
            "\n",
            "Complex: In 2007, Ronaldo and Messi finished as runners-up to A.C. Milan's Kaká in both the Ballon d'Or, an award rewarded to the player voted as the best in the world by an international panel of sports journalists; and the FIFA World Player of the Year, an award voted for by coaches and captains of international teams. \n",
            "Simple: In 2007, Ronaldo and Messi finished as runners-up to A.C. Milan's Kaká in both the Ballon d'Or and the FIFA World Player of the Year. The Ballon d'Or is an award given to the best player in the world by an international group of sports journalists.\n",
            "\n",
            "Complex: In an interview that year, Messi was quoted as saying that \"Cristiano Ronaldo is an extraordinary player and it would be brilliant to be in the same team as him. \n",
            "Simple: In an interview that year, Messi said that he would like to play with Ronaldo. He said that \"Cristiano Ronaldo is an extraordinary player.\n",
            "\n",
            "Complex: \"They first played in a game against each other when Manchester United were drawn to play Barcelona in the 2007–08 UEFA Champions League semi-finals and were immediately pitted as major rivals. \n",
            "Simple: They first played against each other when Manchester United were playing Barcelona in the UEFA Champions League in 2007. They played against each other for the first time in this game.\n",
            "\n",
            "Complex: Ronaldo missed a penalty in the first leg, but United eventually advanced to the final via a Paul Scholes goal. \n",
            "Simple: In the first leg, Ronaldo missed a penalty. In the end, Paul Scholes scored United's goal.\n",
            "\n",
            "Complex: At the end of the year, Ronaldo was awarded the Ballon d'Or and vowed that he would win the award again.The 2009 UEFA Champions League Final was contested between Manchester United and Barcelona on 27 May 2009 at the Stadio Olimpico in Rome, Italy. \n",
            "Simple: At the end of the year, Ronaldo was awarded the Ballon d'Or and said that he would win the award again. The 2009 UEFA Champions League Final was played on May 27, 2009 at the Stadio Olimpico in Rome, Italy.\n",
            "\n",
            "Complex: The match, described as a \"dream clash\", was again hyped as the latest battle between the two, this time to settle who was the best player in the world; Ronaldo claimed he was the better of the two, while Messi's club-mate Xavi sided with him. \n",
            "Simple: The match, described as a \"dream clash\", was again hyped as the latest battle between the two, with Messi's club-mate Xavi saying that Ronaldo was the better player, while Ronaldo said that he was the best player in the world.\n",
            "\n",
            "Complex: Manchester United manager Alex Ferguson was more diplomatic, praising both players as being amongst the world's elite talents. \n",
            "Simple: Manchester United manager Alex Ferguson thought that both players were very good. He said that they were the best in the world.\n",
            "\n",
            "Complex: Messi, playing in a central role he was unaccustomed to so he would avoid a direct battle with Manchester United left-back Patrice Evra, scored Barcelona's second in a 2–0 victory with a header in the 70th minute. \n",
            "Simple: Messi, playing in a central role so he would not have to fight with Manchester United left-back Patrice Evra, scored Barcelona's second goal in a 2-0 victory. He scored the goal in the 70th minute.\n",
            "\n",
            "Complex: Meanwhile, Ronaldo was subdued for much of the game, despite some early chances to score, and his frustration eventually showed when he was booked for a rash tackle on Carles Puyol.From 2009 to 2018, the two played against each other at least twice per season during El Clásico matches but also met many other times competitions such as the Copa del Rey, the Supercopa de España, and, a two-legged Champions League semifinal in 2011. \n",
            "Simple: Meanwhile, Ronaldo was subdued for much of the game, despite some early chances to score, and his frustration eventually showed when he was booked for a rash tackle on Carles Puyol. The two have played against each other at least twice a season since the beginning of the 2009\\/10 season, including a two-legged Champions League semifinal in 2011.\n",
            "\n",
            "Complex: Messi won four consecutive Ballon d'Or awards (2009 to 2012), with a fifth coming in 2015, while Ronaldo had equalled Messi's total of five with wins in 2013, 2014, 2016, and 2017. \n",
            "Simple: Messi has won the Ballon d'Or four times in a row (2009 to 2012), while Ronaldo has won it five times. Ronaldo won the award in 2013, 2014, 2016, and 2017.\n",
            "\n",
            "Complex: In 2019, Messi took the lead again by earning his sixth Ballon d'Or, finishing just seven points ahead of second-placed Virgil van Dijk, with Ronaldo finishing third. \n",
            "Simple: In 2019, Messi took the lead again by earning his sixth Ballon d'Or. He finished just seven points ahead of second-placed Virgil van Dijk, with Ronaldo third.\n",
            "\n",
            "Complex: In total, Messi and Ronaldo reached the podium a record twelve times each. \n",
            "Simple: In total, Messi and Ronaldo have both won the World Cup twelve times.\n",
            "\n",
            "Complex: Messi won two Champions League while Ronaldo was playing for Real Madrid, with the latter securing four out of five titles between 2014 and 2018. \n",
            "Simple: While Ronaldo was playing for Real Madrid, Messi won two Champions League games. Real Madrid have won four out of five titles since 2014.\n",
            "\n",
            "Complex: Messi during this period won five Pichichi trophies and European Golden Shoe awards (2010, 2012, 2013, 2017 and 2018), while Ronaldo won these prizes thrice each (2011, 2014 and 2015). \n",
            "Simple: During this time, Messi has won five Pichichi trophies and three European Golden Shoe awards. Ronaldo has won these awards three times, once each in 2011, 2014 and 2015.\n",
            "\n",
            "Complex: From 2009 to 2018, Ronaldo was the Champions League top scorer on six occasions, with Messi achieving this feat four times (including in 2015 when the pair finished joint-top). \n",
            "Simple: From 2009 to 2018, Ronaldo has scored more goals in the Champions League than Messi four times. In 2015, the two players finished as the top scorers together.\n",
            "\n",
            "Complex: In a 2015 interview, Ronaldo commented on the rivalry by saying: \"I think we push each other sometimes in the competition, this is why the competition is so high.\" \n",
            "Simple: In a 2015 interview, Ronaldo talked about the rivalry. He said: \"Sometimes we push each other a little bit, that's why the competition is so good.\n",
            "\n",
            "Complex: Alex Ferguson, Ronaldo's manager during his time at Manchester United, opined: \"I don't think the rivalry against each other bothers them. \n",
            "Simple: Alex Ferguson, who managed Ronaldo when he was at Manchester United, said that he does not care about the other players.\n",
            "\n",
            "Complex: I think they have their own personal pride in terms of wanting to be the best.\" \n",
            "Simple: I think they have their own personal pride. They want to be the best at it.\"\n",
            "\n",
            "Complex: Messi has denied any rivalry, and blames the media for creating it, stating that \"only the media, the press, who wants us to be at loggerheads but I've never fought with Cristiano. \n",
            "Simple: Messi has denied any rivalry, and blames the media for creating it. He said that \"only the media, the press, wants us to be at loggerheads (not playing against each other).\n",
            "\n",
            "Complex: \"It is widely argued and documented that there is an atmosphere of competition between the duo, with Guillem Balagué claiming in the book Ronaldo that he refers to his Argentine counterpart as a \"motherfucker\" behind his back, and Luca Caioli saying in his book Ronaldo: The Obsession for Perfection that, according to his sources, Ronaldo heats up when watching Messi play. \n",
            "Simple: \"It is widely argued and documented that there is an atmosphere of competition between the duo, with Luca Caioli saying in his book Ronaldo: The Obsession for Perfection that, according to his sources, Ronaldo heats up when watching Messi play, and Guillem Balagué claiming in the book that he refers to his Argentine counterpart as a \"motherfucker\" behind his back.\n",
            "\n",
            "Complex: In response to claims that he and Messi do not get on well on a personal level, Ronaldo commented: \"We don't have a relationship outside the world of football, just as we don't with a lot of other players\", before adding that in years to come he hopes they can laugh about it together, stating: \"We have to look on this rivalry with a positive spirit, because it's a good thing.\" \n",
            "Simple: He has said that he and Messi do not get on well on a personal level, and that they do not have a good relationship outside of football. He said that they do not have a good relationship with a lot of other players, and that in years to come he hopes they can laugh about it together.\n",
            "\n",
            "Complex: On 13 November 2014, Ronaldo also threatened to take legal action over the remarks made by Balagué. \n",
            "Simple: On 13 November 2014, Ronaldo also said that he would take legal action against Balagué.\n",
            "\n",
            "Complex: After Ronaldo's departure from Real Madrid to Juventus, Messi admitted to missing him, saying: \"I miss Cristiano. \n",
            "Simple: After Ronaldo left Real Madrid to join Juventus, Messi said that he \"missed\" him, \"I miss Cristiano\".\n",
            "\n",
            "Complex: Although it was a bit difficult to see him win trophies, he gave La Liga prestige.\" \n",
            "Simple: It was a little hard for him to win trophies, but he gave La Liga importance.\"\n",
            "\n",
            "Complex: During a joint interview at the UEFA Player of the Year ceremony in 2019, Ronaldo said he would like to \"have dinner together in the future\", to which Messi later replied: \"If I get an invitation, why not?\" \n",
            "Simple: During a joint interview at the UEFA Player of the Year ceremony in 2019, Ronaldo said he would like to \"have dinner together in the future\", to which Messi said: \"If I get an invitation, why not?\"\n",
            "\n",
            "Complex: Throughout the existence of the rivalry, the pair have dominated awards ceremonies and broken a multitude of goalscoring records for both club and country, feats which have been described as \"incredible\", \"ridiculous\", and \"remarkable\", respectively. \n",
            "Simple: Throughout the existence of the rivalry, the pair have dominated awards ceremonies and broken many goalscoring records for both club and country. People have said that they are both \"incredible\" and \"remarkable\" for having scored so many goals.\n",
            "\n",
            "Complex: The rivalry itself has been described as one about records and reputation of the players, rather than one based in loathing.Messi is the all-time La Liga top scorer, as well as having the most goal contributions (goals + assists) in the history of the top European leagues, with comfortably over 1,000 totals; meanwhile, Ronaldo places second for goals scored and in third for assists provided, whilst being the UEFA Champions League all-time top goalscorer and assist provider, with Messi in second for both goals scored and assists provided in the competition's history, although once more having a superior ratio of goal contributions to games. \n",
            "Simple: Messi is the all-time La Liga top scorer, as well as having the most goal contributions (goals + assists) in the history of the top European leagues, while being the UEFA Champions League all-time top goalscorer and assist provider. Ronaldo is the UEFA Champions League all-time top goalscorer and assist provider, with Messi in second for both goals scored and assists provided in the competition's history, although once more having a superior ratio of goal contributions to games.\n",
            "\n",
            "Complex: Messi also holds both the most goals in a season (73), and second most assists in a season (34), just one behind midfielder Juan Mata's record. \n",
            "Simple:  Messi also holds the record for most goals in a season with 73. He also holds the record for most assists with 34.\n",
            "\n",
            "Complex: He is the outright holder of most goal contributions in a season, with 107 in 2011–12. \n",
            "Simple: He has scored the most goals in a single season with 107 in the 2011 â \"12 season.\n",
            "\n",
            "Complex: The two had broken each other's record over the course of 2015 after Messi surpassed the previous record holder Raúl in November 2014. \n",
            "Simple: The two had broken each other's record over the course of 2015. In November 2014, Messi beat the previous record holder.\n",
            "\n",
            "Complex: Ronaldo opened a gap in the 2015–16 season when he became the first player to score double figures in the group stage of the Champions League, setting the record at 11 goals. \n",
            "Simple: In the 2015/16 season, he became the first player in history to score double figures in the Champions League group stage, setting the record at 11 goals.\n",
            "\n",
            "Complex: They are the first two players to score 100 goals in UEFA Champions League history.They dominated the Ballon d'Or/The Best FIFA Men's Player awards since 2008, and UEFA Men's Player of the Year Award since 2014; in 2018, their roughly decade-long triumph was ended by Luka Modrić, seen as \"the end of an era.\" \n",
            "Simple: They are the first two players to score 100 goals in UEFA Champions League history. They have won the Ballon d'Or/The Best FIFA Men's Player awards since 2008, and UEFA Men's Player of the Year Award since 2014; Luka Modrić won the award for the first time in his career in 2018.\n",
            "\n",
            "Complex: In an interview for the France Football, Modrić stated that \"history will say that a Croatian player, representing his small country, won the Ballon d'Or after Cristiano Ronaldo and Lionel Messi, who are players at another level. \n",
            "Simple: In an interview for the France Football, Modrić said that \"history will say that a Croatian player, representing his small country, won the Ballon d'Or after Lionel Messi and Cristiano Ronaldo.\n",
            "\n",
            "Complex: Nobody has the right to compare themselves to them.\" \n",
            "Simple: No one should compare themselves to them.\"\n",
            "\n",
            "Complex: Since 2008, Messi has won six Ballons d'Or to Ronaldo's five, six FIFA World's Best Player awards to Ronaldo's five, and six European Golden Shoes to Ronaldo's four.Collectively, Ronaldo has won 32 major trophies including seven league titles and five Champions Leagues, and guided Portugal to their first trophies UEFA Euro 2016 and the 2019 UEFA Nations League. \n",
            "Simple: Since 2008, Messi has won six Ballons d'Or to Ronaldo's five, six FIFA World's Best Player awards to Ronaldo's five, and six European Golden Shoes to Ronaldo's four. In that time, Messi has won seven league titles and five Champions Leagues, while Ronaldo has won seven league titles and five Champions Leagues.\n",
            "\n",
            "Complex: He has also won four national cups, two league cups, six national super cups, two European Super Cups, and four FIFA Club World Cups.Messi has won a club record 34 major trophies as a Barcelona player, including ten league titles, four Champions Leagues, seven Copa del Rey titles, seven Spanish Super Cups, three European Super Cups, and three FIFA Club World Cups. \n",
            "Simple: Messi has won a club record 34 major trophies as a Barcelona player, including ten league titles, four Champions Leagues, seven Copa del Rey titles, seven Spanish Super Cups, three European Super Cups, and three FIFA Club World Cups. He has also won four national cups, two league cups, six national super cups, and four FIFA Club World Cups.\n",
            "\n",
            "Complex: As for youth competitions, Messi won a gold medal at the 2008 Olympic Games held in China, and he had previously won the FIFA U-20 World Cup in 2005, being elected best player and top scorer of the tournament. \n",
            "Simple: In 2008, Messi won a gold medal at the Olympic Games held in China, and in 2005, he won the FIFA U-20 World Cup. Messi was the best player at the 2008 Olympic Games, and he won the FIFA U-20 World Cup.\n",
            "\n",
            "Complex: Moreover, Messi was runner-up at three Copa Américas and at the 2014 World Cup, before finally claiming his first major international trophy at the 2021 Copa América where he was named joint-best player and top scorer. \n",
            "Simple: In addition, Messi was runner-up at three Copa Américas and at the 2014 World Cup. At the 2021 Copa América, Messi was named joint-best player and top scorer, and he won his first major international trophy.\n",
            "\n",
            "Complex: In past years, it had been said that the rivalry between Real Madrid and Barcelona has been \"encapsulated\" by the individual rivalry between Ronaldo and Messi, with there never being a goalless El Clásico between the two. \n",
            "Simple: In past years, it had been said that the rivalry between Real Madrid and Barcelona is the best in the world. This is because Messi and Ronaldo have always played against each other in El Clásico.\n",
            "\n"
          ],
          "name": "stdout"
        }
      ]
    },
    {
      "cell_type": "markdown",
      "metadata": {
        "id": "7A_XJop0_71z"
      },
      "source": [
        "#####**Simplified Wikipedia Article**"
      ]
    },
    {
      "cell_type": "code",
      "metadata": {
        "id": "Jms42MMFdZJj",
        "colab": {
          "base_uri": "https://localhost:8080/",
          "height": 1000
        },
        "outputId": "b3a42f97-9fba-49d6-ab14-684bb2a5d041"
      },
      "source": [
        "cur_para, cur_sen = 0, 0\n",
        "simplified_article = page.original_title + '\\n\\n'\n",
        "\n",
        "for lth in sen_length:\n",
        "    simplified_article += (list(complex_sentences_dict.keys()))[cur_para] + '\\n\\n'\n",
        "    for i in range(lth):\n",
        "        simplified_article += simple_sentences[cur_sen+i] + ' '\n",
        "    simplified_article += '\\n\\n'\n",
        "\n",
        "    cur_para += 1\n",
        "    cur_sen += lth\n",
        "\n",
        "print(simplified_article)"
      ],
      "execution_count": null,
      "outputs": [
        {
          "output_type": "display_data",
          "data": {
            "text/html": [
              "<style>pre {white-space: pre-wrap;}</style>"
            ],
            "text/plain": [
              "<IPython.core.display.HTML object>"
            ]
          },
          "metadata": {
            "tags": []
          }
        },
        {
          "output_type": "stream",
          "text": [
            "Messi–Ronaldo rivalry\n",
            "\n",
            "== Introduction ==\n",
            "\n",
            "The Messi-Ronaldo rivalry is a football rivalry between two very good football players: Cristiano Ronaldo and Lionel Messi. Many people think that both Messi and Ronaldo are the best players in the world today. Both have won the Ballon d'Or many times, six for Messi and five for Ronaldo, as well as many other awards, such as the European Golden Shoe. They are two of the most successful football players ever, having won a combined 66 trophies. Messi has won 34 trophies in his senior career, and Ronaldo has won 32 trophies in his senior career. They are the only two players in the history of the sport to score 500 or more goals in a single season. They have both scored over 700 goals in their careers. Ronaldo currently holds the world record for most official goals in a career, while Messi has the superior goals-to-games ratio (0.81, to Ronaldo's 0.73). Many people think that Ronaldo is the best player in the world today, while some people think that Messi is the best player ever. No matter what people think, football people generally agree that both are the greatest players of their time. Many people think they are the best players of their time. Messi's combination of dribbling, technical, playmaking, and goalscoring skills is often considered among the very best in history, while Ronaldo's leadership and influence under pressure is well-appreciated worldwide. It has been compared to past global sports rivalries such as the Muhammad Ali-Joe Frazier rivalry in boxing, the Alain Prost-Ayrton Senna rivalry in Formula One motor racing, the Björn Borg-John McEnroe rivalry in tennis, and the Roger Federer-Rafael Nadal rivalry in tennis. Some commentators choose to analyse the differing physiques and playing styles of the two, while part of the debate revolves around the contrasting personalities of the two players; Messi is often described as a player with a strong personality, while Ronaldo is considered to have a more reserved character. The two players play against each other at least twice every season in the world's most popular regular-season club game, El Clásico. Since Ronaldo joined Madrid in 2009, they have played against each other at least twice every season. in 2018. Off the field, they are also the face of two rival sportswear manufacturers, Adidas and Nike. Adidas and Nike both supply the national teams of both Messi and Ronaldo. The two highest-paid players in football, Messi and Ronaldo are among the world's best-paid sports stars. They both make a lot of money from their jobs. In 2018, Messi made $111 million on the Forbes list of the world's most paid sportspeople. Ronaldo made $108 million on the list. \n",
            "\n",
            "== History ==\n",
            "\n",
            "In 2007, Ronaldo and Messi finished as runners-up to A.C. Milan's Kaká in both the Ballon d'Or and the FIFA World Player of the Year. The Ballon d'Or is an award given to the best player in the world by an international group of sports journalists. In an interview that year, Messi said that he would like to play with Ronaldo. He said that \"Cristiano Ronaldo is an extraordinary player. They first played against each other when Manchester United were playing Barcelona in the UEFA Champions League in 2007. They played against each other for the first time in this game. In the first leg, Ronaldo missed a penalty. In the end, Paul Scholes scored United's goal. At the end of the year, Ronaldo was awarded the Ballon d'Or and said that he would win the award again. The 2009 UEFA Champions League Final was played on May 27, 2009 at the Stadio Olimpico in Rome, Italy. The match, described as a \"dream clash\", was again hyped as the latest battle between the two, with Messi's club-mate Xavi saying that Ronaldo was the better player, while Ronaldo said that he was the best player in the world. Manchester United manager Alex Ferguson thought that both players were very good. He said that they were the best in the world. Messi, playing in a central role so he would not have to fight with Manchester United left-back Patrice Evra, scored Barcelona's second goal in a 2-0 victory. He scored the goal in the 70th minute. Meanwhile, Ronaldo was subdued for much of the game, despite some early chances to score, and his frustration eventually showed when he was booked for a rash tackle on Carles Puyol. The two have played against each other at least twice a season since the beginning of the 2009\\/10 season, including a two-legged Champions League semifinal in 2011. Messi has won the Ballon d'Or four times in a row (2009 to 2012), while Ronaldo has won it five times. Ronaldo won the award in 2013, 2014, 2016, and 2017. In 2019, Messi took the lead again by earning his sixth Ballon d'Or. He finished just seven points ahead of second-placed Virgil van Dijk, with Ronaldo third. In total, Messi and Ronaldo have both won the World Cup twelve times. While Ronaldo was playing for Real Madrid, Messi won two Champions League games. Real Madrid have won four out of five titles since 2014. During this time, Messi has won five Pichichi trophies and three European Golden Shoe awards. Ronaldo has won these awards three times, once each in 2011, 2014 and 2015. From 2009 to 2018, Ronaldo has scored more goals in the Champions League than Messi four times. In 2015, the two players finished as the top scorers together. \n",
            "\n",
            "== Relationship between Messi and Ronaldo ==\n",
            "\n",
            "In a 2015 interview, Ronaldo talked about the rivalry. He said: \"Sometimes we push each other a little bit, that's why the competition is so good. Alex Ferguson, who managed Ronaldo when he was at Manchester United, said that he does not care about the other players. I think they have their own personal pride. They want to be the best at it.\" Messi has denied any rivalry, and blames the media for creating it. He said that \"only the media, the press, wants us to be at loggerheads (not playing against each other). \"It is widely argued and documented that there is an atmosphere of competition between the duo, with Luca Caioli saying in his book Ronaldo: The Obsession for Perfection that, according to his sources, Ronaldo heats up when watching Messi play, and Guillem Balagué claiming in the book that he refers to his Argentine counterpart as a \"motherfucker\" behind his back. He has said that he and Messi do not get on well on a personal level, and that they do not have a good relationship outside of football. He said that they do not have a good relationship with a lot of other players, and that in years to come he hopes they can laugh about it together. On 13 November 2014, Ronaldo also said that he would take legal action against Balagué. After Ronaldo left Real Madrid to join Juventus, Messi said that he \"missed\" him, \"I miss Cristiano\". It was a little hard for him to win trophies, but he gave La Liga importance.\" During a joint interview at the UEFA Player of the Year ceremony in 2019, Ronaldo said he would like to \"have dinner together in the future\", to which Messi said: \"If I get an invitation, why not?\" \n",
            "\n",
            "== Awards and records ==\n",
            "\n",
            "Throughout the existence of the rivalry, the pair have dominated awards ceremonies and broken many goalscoring records for both club and country. People have said that they are both \"incredible\" and \"remarkable\" for having scored so many goals. Messi is the all-time La Liga top scorer, as well as having the most goal contributions (goals + assists) in the history of the top European leagues, while being the UEFA Champions League all-time top goalscorer and assist provider. Ronaldo is the UEFA Champions League all-time top goalscorer and assist provider, with Messi in second for both goals scored and assists provided in the competition's history, although once more having a superior ratio of goal contributions to games.  Messi also holds the record for most goals in a season with 73. He also holds the record for most assists with 34. He has scored the most goals in a single season with 107 in the 2011 â \"12 season. The two had broken each other's record over the course of 2015. In November 2014, Messi beat the previous record holder. In the 2015/16 season, he became the first player in history to score double figures in the Champions League group stage, setting the record at 11 goals. They are the first two players to score 100 goals in UEFA Champions League history. They have won the Ballon d'Or/The Best FIFA Men's Player awards since 2008, and UEFA Men's Player of the Year Award since 2014; Luka Modrić won the award for the first time in his career in 2018. In an interview for the France Football, Modrić said that \"history will say that a Croatian player, representing his small country, won the Ballon d'Or after Lionel Messi and Cristiano Ronaldo. No one should compare themselves to them.\" Since 2008, Messi has won six Ballons d'Or to Ronaldo's five, six FIFA World's Best Player awards to Ronaldo's five, and six European Golden Shoes to Ronaldo's four. In that time, Messi has won seven league titles and five Champions Leagues, while Ronaldo has won seven league titles and five Champions Leagues. Messi has won a club record 34 major trophies as a Barcelona player, including ten league titles, four Champions Leagues, seven Copa del Rey titles, seven Spanish Super Cups, three European Super Cups, and three FIFA Club World Cups. He has also won four national cups, two league cups, six national super cups, and four FIFA Club World Cups. In 2008, Messi won a gold medal at the Olympic Games held in China, and in 2005, he won the FIFA U-20 World Cup. Messi was the best player at the 2008 Olympic Games, and he won the FIFA U-20 World Cup. In addition, Messi was runner-up at three Copa Américas and at the 2014 World Cup. At the 2021 Copa América, Messi was named joint-best player and top scorer, and he won his first major international trophy. \n",
            "\n",
            "== Head-to-head ==\n",
            "\n",
            "In past years, it had been said that the rivalry between Real Madrid and Barcelona is the best in the world. This is because Messi and Ronaldo have always played against each other in El Clásico. \n",
            "\n",
            "\n"
          ],
          "name": "stdout"
        }
      ]
    },
    {
      "cell_type": "markdown",
      "metadata": {
        "id": "0-Xub2u-AZwW"
      },
      "source": [
        "#####**Simplified + Summarized Article**"
      ]
    },
    {
      "cell_type": "code",
      "metadata": {
        "id": "7o7ZRZFsAY8p",
        "colab": {
          "base_uri": "https://localhost:8080/",
          "height": 543,
          "referenced_widgets": [
            "c4768b71c55445f092c33d0d9b197834",
            "77418127c4654006a6610af8722b4f98",
            "977ad2096048427ab9d3c7c567d311f3",
            "fcb0e031854446af94b2f29bd1d6710d",
            "ccf5379321ec4eeeb2ccf0a014737889",
            "85d2c4b4c4a14bcaabf06c2899acc41e",
            "9cf7a6867acb4d3a93611932b9704d4e",
            "5af848fb9265434c93693ae6dd7e5ac1",
            "3a59e8f2a68a406fba8a15a8a54e62a3",
            "70d73496167a433ca9e142e28fbb7596",
            "0ef209dc3b3d454fae7325d0ddff7240",
            "f29ee09134c24e63bb9c6a1ea65f3e6e",
            "acf2fbcdc6dd4b1ba5de8908eac46199",
            "1c3db3e73d924a6990cd10ebfc2665d2",
            "a4a56f6446074adfa1b11bbcb34e3d22",
            "f7dc8ad7682f43e4a8cc5f3c3442cb01",
            "4e8374fa45104f0eb48209c3e573cec5",
            "64c4c18fcf9d41c4a0854d95bff4ebef",
            "ea74a17e91234cb1a803d9de41384ca4",
            "0c8133e3342b4f649cfba7d8e3795232",
            "cf9d482e115c48cf861c22c88201b238",
            "11155ce2cd7141e394fd874e213efec7",
            "7e961ac3509f4628bdfdbc7fc95d74de",
            "61a80c0b95264b8aa78518d988419ae4",
            "fff9f1c3802b477195c738a86e4afd48",
            "c2cab65440a742cf8aa268fcb839fd95",
            "7ea8106314e94965ab142c5fe945dfad",
            "eb31c9e0621d4f029ff12b3b085b4adb",
            "24ea13fff6084c41a97b191e38c4a936",
            "95e097a72dd9430fa4990d8125f3aaf7",
            "c1beffc7e319462194f55af137816064",
            "783c049c65db4d958dd770c828869968",
            "ee16cce8e6444c138326ce2cbc7f4431",
            "a02e3162567847668f976f1e865506fd",
            "65c2bacb18b24862955d1292704caa83",
            "31a297d11a4743c5a07848d55194213e",
            "c395b5aaed7348119db6d55d03118dd2",
            "6b88509078be4a7fbd565dd772144ea1",
            "53054592ddfe40d3b18546ce3ef29eb1",
            "b5cad8be41d34a33b6455763477c5afc",
            "f26727ff8e564530947c62a8d54aa2db",
            "4d0999f7d88b4405b97e3a5bba72fe80",
            "d1556920ef6f474a975a6672ba311b49",
            "dbbed27ac93a4e79a06bad53e775484e",
            "d782e1075f2b47f78d43173231f78e8e",
            "da051dda894240e7ada9b38a2ee83391",
            "333a987a9a9c44d38d597a9605f9a228",
            "0bab7b0fb741464eba9c3c17449ce7d3",
            "213a2195a4f04c74973ef8961c9b45fe",
            "4d4a4b87e88d475b971a8a1c2e517a14",
            "a519ea9882e54227848a48fe085c8a91",
            "98d396a455b54f24943ff39d82373290",
            "48d0ce68c7674e28b14e7791e9a9dc75",
            "01b7da4567b047ee9f4df9ec405aa46b",
            "21321dd78f5047bb913ca765a437433e"
          ]
        },
        "outputId": "b2a5bcff-f2ac-4e48-fef5-30f6841626f4"
      },
      "source": [
        "from transformers import pipeline\n",
        "summarizer = pipeline('summarization')"
      ],
      "execution_count": null,
      "outputs": [
        {
          "output_type": "display_data",
          "data": {
            "text/html": [
              "<style>pre {white-space: pre-wrap;}</style>"
            ],
            "text/plain": [
              "<IPython.core.display.HTML object>"
            ]
          },
          "metadata": {
            "tags": []
          }
        },
        {
          "output_type": "stream",
          "text": [
            "INFO:filelock:Lock 140182548512848 acquired on /root/.cache/huggingface/transformers/adac95cf641be69365b3dd7fe00d4114b3c7c77fb0572931db31a92d4995053b.a50597c2c8b540e8d07e03ca4d58bf615a365f134fb10ca988f4f67881789178.lock\n"
          ],
          "name": "stderr"
        },
        {
          "output_type": "display_data",
          "data": {
            "application/vnd.jupyter.widget-view+json": {
              "model_id": "c4768b71c55445f092c33d0d9b197834",
              "version_minor": 0,
              "version_major": 2
            },
            "text/plain": [
              "Downloading:   0%|          | 0.00/1.80k [00:00<?, ?B/s]"
            ]
          },
          "metadata": {
            "tags": []
          }
        },
        {
          "output_type": "stream",
          "text": [
            "INFO:filelock:Lock 140182548512848 released on /root/.cache/huggingface/transformers/adac95cf641be69365b3dd7fe00d4114b3c7c77fb0572931db31a92d4995053b.a50597c2c8b540e8d07e03ca4d58bf615a365f134fb10ca988f4f67881789178.lock\n",
            "INFO:filelock:Lock 140182561626768 acquired on /root/.cache/huggingface/transformers/b336fa0b874ea92e3e22f07a7e6f8fa9da01221759c33abeb2679d6d98fe7755.585965cf7e82e4536033cd21d76c486af3d6b1c2a34b3a847840d4e7fe9d8844.lock\n"
          ],
          "name": "stderr"
        },
        {
          "output_type": "display_data",
          "data": {
            "application/vnd.jupyter.widget-view+json": {
              "model_id": "f29ee09134c24e63bb9c6a1ea65f3e6e",
              "version_minor": 0,
              "version_major": 2
            },
            "text/plain": [
              "Downloading:   0%|          | 0.00/1.22G [00:00<?, ?B/s]"
            ]
          },
          "metadata": {
            "tags": []
          }
        },
        {
          "output_type": "stream",
          "text": [
            "INFO:filelock:Lock 140182561626768 released on /root/.cache/huggingface/transformers/b336fa0b874ea92e3e22f07a7e6f8fa9da01221759c33abeb2679d6d98fe7755.585965cf7e82e4536033cd21d76c486af3d6b1c2a34b3a847840d4e7fe9d8844.lock\n",
            "INFO:filelock:Lock 140180001070288 acquired on /root/.cache/huggingface/transformers/f5316f64f9716436994a7ad76a354dc20ecb2dd74eb61d278f103a9c8b80291f.67d01b18f2079bd75eac0b2f2e7235768c7f26bd728e7a855a1c5acae01a91a8.lock\n"
          ],
          "name": "stderr"
        },
        {
          "output_type": "display_data",
          "data": {
            "application/vnd.jupyter.widget-view+json": {
              "model_id": "7e961ac3509f4628bdfdbc7fc95d74de",
              "version_minor": 0,
              "version_major": 2
            },
            "text/plain": [
              "Downloading:   0%|          | 0.00/26.0 [00:00<?, ?B/s]"
            ]
          },
          "metadata": {
            "tags": []
          }
        },
        {
          "output_type": "stream",
          "text": [
            "INFO:filelock:Lock 140180001070288 released on /root/.cache/huggingface/transformers/f5316f64f9716436994a7ad76a354dc20ecb2dd74eb61d278f103a9c8b80291f.67d01b18f2079bd75eac0b2f2e7235768c7f26bd728e7a855a1c5acae01a91a8.lock\n",
            "INFO:filelock:Lock 140180001070288 acquired on /root/.cache/huggingface/transformers/9951e68693b9a7c583ae677e9cb53c02715d9bd0311a78706401372653cdea0a.647b4548b6d9ea817e82e7a9231a320231a1c9ea24053cc9e758f3fe68216f05.lock\n"
          ],
          "name": "stderr"
        },
        {
          "output_type": "display_data",
          "data": {
            "application/vnd.jupyter.widget-view+json": {
              "model_id": "a02e3162567847668f976f1e865506fd",
              "version_minor": 0,
              "version_major": 2
            },
            "text/plain": [
              "Downloading:   0%|          | 0.00/899k [00:00<?, ?B/s]"
            ]
          },
          "metadata": {
            "tags": []
          }
        },
        {
          "output_type": "stream",
          "text": [
            "INFO:filelock:Lock 140180001070288 released on /root/.cache/huggingface/transformers/9951e68693b9a7c583ae677e9cb53c02715d9bd0311a78706401372653cdea0a.647b4548b6d9ea817e82e7a9231a320231a1c9ea24053cc9e758f3fe68216f05.lock\n",
            "INFO:filelock:Lock 140179999897744 acquired on /root/.cache/huggingface/transformers/7588c8d398d659b230a038240cc023f67b6848117d2999f06ab625af7bfc7ec1.5d12962c5ee615a4c803841266e9c3be9a691a924f72d395d3a6c6c81157788b.lock\n"
          ],
          "name": "stderr"
        },
        {
          "output_type": "display_data",
          "data": {
            "application/vnd.jupyter.widget-view+json": {
              "model_id": "d782e1075f2b47f78d43173231f78e8e",
              "version_minor": 0,
              "version_major": 2
            },
            "text/plain": [
              "Downloading:   0%|          | 0.00/456k [00:00<?, ?B/s]"
            ]
          },
          "metadata": {
            "tags": []
          }
        },
        {
          "output_type": "stream",
          "text": [
            "INFO:filelock:Lock 140179999897744 released on /root/.cache/huggingface/transformers/7588c8d398d659b230a038240cc023f67b6848117d2999f06ab625af7bfc7ec1.5d12962c5ee615a4c803841266e9c3be9a691a924f72d395d3a6c6c81157788b.lock\n"
          ],
          "name": "stderr"
        }
      ]
    },
    {
      "cell_type": "code",
      "metadata": {
        "id": "NNZKKYpFB0rO",
        "colab": {
          "base_uri": "https://localhost:8080/",
          "height": 259
        },
        "outputId": "564e8766-c201-4fd8-edff-6292244a67fe"
      },
      "source": [
        "char_limit = 2500\n",
        "summarized_text = ''\n",
        "for i in range(len(simple_text) // char_limit):\n",
        "    summarized_text += (summarizer(simple_text[char_limit*i:char_limit*(i+1)], \n",
        "                                   max_length=120, min_length=100))[0]['summary_text'] + ' '\n",
        "\n",
        "print(page.original_title + '\\n\\n' + summarized_text)"
      ],
      "execution_count": null,
      "outputs": [
        {
          "output_type": "display_data",
          "data": {
            "text/html": [
              "<style>pre {white-space: pre-wrap;}</style>"
            ],
            "text/plain": [
              "<IPython.core.display.HTML object>"
            ]
          },
          "metadata": {
            "tags": []
          }
        },
        {
          "output_type": "stream",
          "text": [
            "Messi–Ronaldo rivalry\n",
            "\n",
            " The Messi-Ronaldo rivalry is a football rivalry between two very good football players . Many people think that both Messi and Ronaldo are the best players in the world today . Messi has won 34 trophies in his senior career, while Ronaldo has won 32 . The two players play against each other at least twice every season in El Clásico . The rivalry has been compared to past global sports rivalries such as the Muhammad Ali-Joe Frazier rivalry in boxing and the Alain Prost-Ayrton Senna rivalry in Formula One .  Messi and Ronaldo finished as runners-up to Kaká in both the Ballon d'Or and FIFA World Player of the Year in 2007 . The two have played against each other at least twice a season since the beginning of the 2009\\/10 season, including a two-legged Champions League semifinal in 2011 . Messi has won the award four times in a row (2009 to 2012), while Ronaldo has won it five times . In 2018, Messi made $111 million on the Forbes list of the world's most paid sportspeople . In 2019, Messi took the lead again by earning  Cristiano Ronaldo has scored more goals in the Champions League than Lionel Messi four times from 2009 to 2018 . In 2015, the two players finished as the top scorers together . Messi has denied any rivalry, and blames the media for creating it . In a joint interview at the UEFA Player of the Year ceremony in 2019, Ronaldo said he would like to \"have dinner together in the future\", to which Messi said: \"If I get an invitation, why not?\" The pair have dominated awards ceremonies and broken many goalscoring records for both club and country . \n"
          ],
          "name": "stdout"
        }
      ]
    },
    {
      "cell_type": "markdown",
      "metadata": {
        "id": "YwxHQpD94hOI"
      },
      "source": [
        "---\n",
        "### Readability score calculation"
      ]
    },
    {
      "cell_type": "code",
      "metadata": {
        "id": "maHGOcTw5KRm",
        "colab": {
          "base_uri": "https://localhost:8080/",
          "height": 190
        },
        "outputId": "0c5f1489-46c8-4088-f3bb-92b65b4c6f6c"
      },
      "source": [
        "!pip install textstat"
      ],
      "execution_count": null,
      "outputs": [
        {
          "output_type": "display_data",
          "data": {
            "text/html": [
              "<style>pre {white-space: pre-wrap;}</style>"
            ],
            "text/plain": [
              "<IPython.core.display.HTML object>"
            ]
          },
          "metadata": {
            "tags": []
          }
        },
        {
          "output_type": "stream",
          "text": [
            "Collecting textstat\n",
            "\u001b[?25l  Downloading https://files.pythonhosted.org/packages/ce/42/3e3691ff23d2f3e30ef18bd382d9450e992e2da7e01ca33d392b473eba05/textstat-0.7.1-py3-none-any.whl (99kB)\n",
            "\r\u001b[K     |███▎                            | 10kB 21.6MB/s eta 0:00:01\r\u001b[K     |██████▋                         | 20kB 19.5MB/s eta 0:00:01\r\u001b[K     |█████████▉                      | 30kB 16.7MB/s eta 0:00:01\r\u001b[K     |█████████████▏                  | 40kB 15.1MB/s eta 0:00:01\r\u001b[K     |████████████████▍               | 51kB 7.8MB/s eta 0:00:01\r\u001b[K     |███████████████████▊            | 61kB 9.1MB/s eta 0:00:01\r\u001b[K     |███████████████████████         | 71kB 9.5MB/s eta 0:00:01\r\u001b[K     |██████████████████████████▎     | 81kB 9.8MB/s eta 0:00:01\r\u001b[K     |█████████████████████████████▌  | 92kB 10.1MB/s eta 0:00:01\r\u001b[K     |████████████████████████████████| 102kB 6.7MB/s \n",
            "\u001b[?25hCollecting pyphen\n",
            "\u001b[?25l  Downloading https://files.pythonhosted.org/packages/77/95/b98d82fbfcd33f34a12d3d1eeb127e57d9dc5a272b6f08f4e889766d8b3a/pyphen-0.11.0-py3-none-any.whl (2.0MB)\n",
            "\u001b[K     |████████████████████████████████| 2.0MB 34.0MB/s \n",
            "\u001b[?25hInstalling collected packages: pyphen, textstat\n",
            "Successfully installed pyphen-0.11.0 textstat-0.7.1\n"
          ],
          "name": "stdout"
        }
      ]
    },
    {
      "cell_type": "code",
      "metadata": {
        "id": "MS0Bro8U5Dup",
        "colab": {
          "base_uri": "https://localhost:8080/",
          "height": 415
        },
        "outputId": "da0aeb5e-1904-46b2-ffa7-38722149092c"
      },
      "source": [
        "from textstat import smog_index, flesch_reading_ease, flesch_kincaid_grade, coleman_liau_index \n",
        "from textstat import automated_readability_index, dale_chall_readability_score, gunning_fog\n",
        "\n",
        "print('Readability Index : Complex - Simple\\n')\n",
        "\n",
        "print('Flesch Reading Ease(+) : ', flesch_reading_ease(complex_text), \n",
        "      flesch_reading_ease(simple_text))\n",
        "print('Flesch Kincaid Grade(-) : ', flesch_kincaid_grade(complex_text), flesch_kincaid_grade(simple_text))\n",
        "print('Coleman Liau Index(-) : ', coleman_liau_index(complex_text), coleman_liau_index(simple_text))\n",
        "print('Automated Readability Index(-) : ', automated_readability_index(complex_text),\n",
        "      automated_readability_index(simple_text))\n",
        "print('Gunning Fog(-) : ', gunning_fog(complex_text), gunning_fog(simple_text))\n",
        "print('Smog Index(-) : ', smog_index(complex_text), smog_index(simple_text))\n",
        "print('Dale-Chall Readability Score(-) : ', dale_chall_readability_score(complex_text), \n",
        "      dale_chall_readability_score(simple_text))\n",
        "\n",
        "print('\\n---\\n\\n(+) : higher => better;\\n\\t90-100 : Very Easy\\n\\t80-90 : Easy'\n",
        "      '\\n\\t70-80 : Fairly Easy\\n\\t60-70 : Standard\\n\\t50-60 : Fairly Difficult'\n",
        "      '\\n\\t30-50 : Difficult\\n\\t0-30 : Very Confusing\\n')\n",
        "print('(-) : lower => better;\\nThis is a grade formula in that a '\n",
        "      'score of 9.3 means that a ninth grader would be able to read the document.')"
      ],
      "execution_count": null,
      "outputs": [
        {
          "output_type": "display_data",
          "data": {
            "text/html": [
              "<style>pre {white-space: pre-wrap;}</style>"
            ],
            "text/plain": [
              "<IPython.core.display.HTML object>"
            ]
          },
          "metadata": {
            "tags": []
          }
        },
        {
          "output_type": "stream",
          "text": [
            "Readability Index : Complex - Simple\n",
            "\n",
            "Flesch Reading Ease(+) :  42.58 68.3\n",
            "Flesch Kincaid Grade(-) :  16.5 8.7\n",
            "Coleman Liau Index(-) :  11.38 9.23\n",
            "Automated Readability Index(-) :  20.6 10.8\n",
            "Gunning Fog(-) :  17.15 9.54\n",
            "Smog Index(-) :  14.4 10.1\n",
            "Dale-Chall Readability Score(-) :  7.7 6.13\n",
            "\n",
            "---\n",
            "\n",
            "(+) : higher => better;\n",
            "\t90-100 : Very Easy\n",
            "\t80-90 : Easy\n",
            "\t70-80 : Fairly Easy\n",
            "\t60-70 : Standard\n",
            "\t50-60 : Fairly Difficult\n",
            "\t30-50 : Difficult\n",
            "\t0-30 : Very Confusing\n",
            "\n",
            "(-) : lower => better;\n",
            "This is a grade formula in that a score of 9.3 means that a ninth grader would be able to read the document.\n"
          ],
          "name": "stdout"
        }
      ]
    },
    {
      "cell_type": "code",
      "metadata": {
        "id": "8YnSkH-pITma",
        "colab": {
          "base_uri": "https://localhost:8080/",
          "height": 34
        },
        "outputId": "017e0302-7ef3-4f61-be7f-f9fa9eda35f8"
      },
      "source": [
        "print('Flesch Reading Ease(+) for the summarised article: ', flesch_reading_ease(summarized_text))"
      ],
      "execution_count": null,
      "outputs": [
        {
          "output_type": "display_data",
          "data": {
            "text/html": [
              "<style>pre {white-space: pre-wrap;}</style>"
            ],
            "text/plain": [
              "<IPython.core.display.HTML object>"
            ]
          },
          "metadata": {
            "tags": []
          }
        },
        {
          "output_type": "stream",
          "text": [
            "Flesch Reading Ease(+) :  58.42\n"
          ],
          "name": "stdout"
        }
      ]
    },
    {
      "cell_type": "code",
      "metadata": {
        "id": "DnxGYqvbIX7n"
      },
      "source": [
        ""
      ],
      "execution_count": null,
      "outputs": []
    }
  ]
}