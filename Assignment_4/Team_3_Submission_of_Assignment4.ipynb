{
  "nbformat": 4,
  "nbformat_minor": 0,
  "metadata": {
    "colab": {
      "name": "Team 3 Submission of Assignment4.ipynb",
      "provenance": [],
      "collapsed_sections": []
    },
    "kernelspec": {
      "name": "python3",
      "display_name": "Python 3"
    },
    "language_info": {
      "name": "python"
    }
  },
  "cells": [
    {
      "cell_type": "markdown",
      "metadata": {
        "id": "70dD3B-nJwhW"
      },
      "source": [
        "# ***TensorFlow***\n",
        "\n",
        "- Anushka Panda\n",
        "- Laksmi Pravallika\n",
        "- Shreyasi Mandal"
      ]
    },
    {
      "cell_type": "code",
      "metadata": {
        "id": "TVUe9Yva_g1c"
      },
      "source": [
        "import numpy as np\n",
        "import tensorflow_datasets as tfds\n",
        "import tensorflow as tf\n",
        "import matplotlib.pyplot as plt\n",
        "tfds.disable_progress_bar()"
      ],
      "execution_count": null,
      "outputs": []
    },
    {
      "cell_type": "code",
      "metadata": {
        "id": "j04lb-cbASEB"
      },
      "source": [
        "def plotter(history, metric):\n",
        "  plt.plot(history.history[metric])\n",
        "  plt.plot(history.history['val_'+metric],'')\n",
        "  plt.xlabel(\"Epochs\")\n",
        "  plt.ylabel(metric)\n",
        "  plt.legend([metric, 'val_'+metric])"
      ],
      "execution_count": null,
      "outputs": []
    },
    {
      "cell_type": "code",
      "metadata": {
        "colab": {
          "base_uri": "https://localhost:8080/"
        },
        "id": "zM4De6rzCFQ1",
        "outputId": "17a20e35-dc38-4b7c-e5ed-3dd6b37df457"
      },
      "source": [
        "dataset, info = tfds.load('imdb_reviews', with_info = True, as_supervised = True)\n",
        "train_ds, test_ds = dataset['train'], dataset['test']"
      ],
      "execution_count": null,
      "outputs": [
        {
          "output_type": "stream",
          "text": [
            "\u001b[1mDownloading and preparing dataset imdb_reviews/plain_text/1.0.0 (download: 80.23 MiB, generated: Unknown size, total: 80.23 MiB) to /root/tensorflow_datasets/imdb_reviews/plain_text/1.0.0...\u001b[0m\n",
            "Shuffling and writing examples to /root/tensorflow_datasets/imdb_reviews/plain_text/1.0.0.incompleteOXXHRI/imdb_reviews-train.tfrecord\n",
            "Shuffling and writing examples to /root/tensorflow_datasets/imdb_reviews/plain_text/1.0.0.incompleteOXXHRI/imdb_reviews-test.tfrecord\n",
            "Shuffling and writing examples to /root/tensorflow_datasets/imdb_reviews/plain_text/1.0.0.incompleteOXXHRI/imdb_reviews-unsupervised.tfrecord\n"
          ],
          "name": "stdout"
        },
        {
          "output_type": "stream",
          "text": [
            "WARNING:absl:Dataset is using deprecated text encoder API which will be removed soon. Please use the plain_text version of the dataset and migrate to `tensorflow_text`.\n"
          ],
          "name": "stderr"
        },
        {
          "output_type": "stream",
          "text": [
            "\u001b[1mDataset imdb_reviews downloaded and prepared to /root/tensorflow_datasets/imdb_reviews/plain_text/1.0.0. Subsequent calls will reuse this data.\u001b[0m\n"
          ],
          "name": "stdout"
        }
      ]
    },
    {
      "cell_type": "code",
      "metadata": {
        "id": "UUsItR0AFAIo"
      },
      "source": [
        "buffer_size = 10000\n",
        "batch_size = 64\n",
        "train_ds = train_ds.shuffle(buffer_size).batch(batch_size).prefetch(tf.data.AUTOTUNE)\n",
        "test_ds = test_ds.batch(batch_size).prefetch(tf.data.AUTOTUNE)"
      ],
      "execution_count": null,
      "outputs": []
    },
    {
      "cell_type": "code",
      "metadata": {
        "id": "YFnlnWF7jwBG"
      },
      "source": [
        "vocab_size = 1000\n",
        "encoder = tf.keras.layers.experimental.preprocessing.TextVectorization(max_tokens = vocab_size)\n",
        "encoder.adapt(train_ds.map(lambda text, label: text))"
      ],
      "execution_count": null,
      "outputs": []
    },
    {
      "cell_type": "code",
      "metadata": {
        "id": "S_3wp0l-l_OC"
      },
      "source": [
        "model = tf.keras.Sequential([\n",
        "       encoder,\n",
        "       tf.keras.layers.Embedding(input_dim = len(encoder.get_vocabulary()),output_dim = 64, mask_zero = True),\n",
        "       tf.keras.layers.Bidirectional(tf.keras.layers.LSTM(64)),\n",
        "       tf.keras.layers.Dense(64, activation = 'relu'),\n",
        "       tf.keras.layers.Dense(1)\n",
        "])"
      ],
      "execution_count": null,
      "outputs": []
    },
    {
      "cell_type": "code",
      "metadata": {
        "id": "V9Xn3ib2nYCg"
      },
      "source": [
        "model.compile(\n",
        "    loss = tf.keras.losses.BinaryCrossentropy(from_logits = True),\n",
        "    optimizer = tf.keras.optimizers.Adam(1e-4),\n",
        "    metrics = ['accuracy']\n",
        ")"
      ],
      "execution_count": null,
      "outputs": []
    },
    {
      "cell_type": "code",
      "metadata": {
        "colab": {
          "base_uri": "https://localhost:8080/"
        },
        "id": "j47WjFmJoF8d",
        "outputId": "6cec7c8f-ecbe-4798-c0bb-bad3fd41f08c"
      },
      "source": [
        "history = model.fit(train_ds, epochs = 6,validation_data = test_ds, validation_steps = 30 )"
      ],
      "execution_count": null,
      "outputs": [
        {
          "output_type": "stream",
          "text": [
            "Epoch 1/3\n",
            "391/391 [==============================] - 701s 2s/step - loss: 0.3343 - accuracy: 0.8514 - val_loss: 0.3346 - val_accuracy: 0.8562\n",
            "Epoch 2/3\n",
            "391/391 [==============================] - 696s 2s/step - loss: 0.3184 - accuracy: 0.8598 - val_loss: 0.3290 - val_accuracy: 0.8594\n",
            "Epoch 3/3\n",
            "391/391 [==============================] - 697s 2s/step - loss: 0.3146 - accuracy: 0.8640 - val_loss: 0.3373 - val_accuracy: 0.8443\n"
          ],
          "name": "stdout"
        }
      ]
    },
    {
      "cell_type": "markdown",
      "metadata": {
        "id": "AbKSqFz54RDQ"
      },
      "source": [
        "I put in less epochs because they were taking lot of time to train"
      ]
    },
    {
      "cell_type": "code",
      "metadata": {
        "colab": {
          "base_uri": "https://localhost:8080/"
        },
        "id": "MbTPR9hgo4T3",
        "outputId": "cb984c35-c216-4092-dbb4-92e761b04054"
      },
      "source": [
        "test_loss, test_accuracy = model.evaluate(test_ds)\n",
        "print('Loss:- ',test_loss)\n",
        "print('Accuracy:- ',test_accuracy)"
      ],
      "execution_count": null,
      "outputs": [
        {
          "output_type": "stream",
          "text": [
            "391/391 [==============================] - 150s 383ms/step - loss: 0.3289 - accuracy: 0.8424\n",
            "Loss:-  0.3289196491241455\n",
            "Accuracy:-  0.8424000144004822\n"
          ],
          "name": "stdout"
        }
      ]
    },
    {
      "cell_type": "code",
      "metadata": {
        "colab": {
          "base_uri": "https://localhost:8080/",
          "height": 626
        },
        "id": "CSIi_uQz-LAn",
        "outputId": "da51aedd-f703-478b-edd8-aed5a568de60"
      },
      "source": [
        "plt.figure(figsize=(20,10))\n",
        "plt.subplot(1,2,1)\n",
        "plotter(history, 'accuracy')\n",
        "plt.ylim(None,1)\n",
        "plt.subplot(1,2,2)\n",
        "plotter(history, 'loss')\n",
        "plt.ylim(0,None)"
      ],
      "execution_count": null,
      "outputs": [
        {
          "output_type": "execute_result",
          "data": {
            "text/plain": [
              "(0.0, 0.3384241312742233)"
            ]
          },
          "metadata": {
            "tags": []
          },
          "execution_count": 13
        },
        {
          "output_type": "display_data",
          "data": {
            "image/png": "[encoded data removed]",
            "text/plain": [
              "<Figure size 1440x720 with 2 Axes>"
            ]
          },
          "metadata": {
            "tags": [],
            "needs_background": "light"
          }
        }
      ]
    }
  ]
}